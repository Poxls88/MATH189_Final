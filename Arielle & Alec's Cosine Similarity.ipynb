{
 "cells": [
  {
   "cell_type": "markdown",
   "metadata": {},
   "source": [
    "# Setup Environment\n",
    "### * Choose your favorite directory, say 'mydir'\n",
    "### * Download dataset https://www.kaggle.com/donorschoose/io/downloads/io.zip/8 and extract to 'mydir/io'"
   ]
  },
  {
   "cell_type": "markdown",
   "metadata": {},
   "source": [
    "Note for Alec: in the miniconda environment, using the install.packages() function screws up dependencies. (MASS and dplyr occasionally have dependency issues) Its better to just install packages with the conda command line, for example: **conda install -c r r-dplyr**\n",
    "\n",
    "Resources for Alec: https://conda.io/docs/commands/conda-install.html,\n",
    "https://conda.io/docs/commands/conda-remove.html,\n",
    "blog.rtwilson.com/conda-revisions-letting-you-rollback-to-a-previous-version-of-your-environment/\n",
    "conda install -c r r-essentials\n",
    "conda install -c r jupyter\n",
    "conda install -c r r-caret\n",
    "conda install -c r r-e1071\n",
    "conda install -c r r-rocr\n",
    "conda install -c r r-lubridate\n",
    "conda install -c r r-dplyr\n",
    "conda install -c r r-broom r-caret r-dbplyr r-dplyr r-essentials r-modelr r-recipes r-tidyr r-tidyverse\n",
    "conda install -f -c r r-mass"
   ]
  },
  {
   "cell_type": "code",
   "execution_count": 2,
   "metadata": {},
   "outputs": [
    {
     "data": {
      "text/plain": [
       "R version 3.4.3 (2017-11-30)\n",
       "Platform: x86_64-w64-mingw32/x64 (64-bit)\n",
       "Running under: Windows 10 x64 (build 17134)\n",
       "\n",
       "Matrix products: default\n",
       "\n",
       "locale:\n",
       "[1] LC_COLLATE=English_United States.1252 \n",
       "[2] LC_CTYPE=English_United States.1252   \n",
       "[3] LC_MONETARY=English_United States.1252\n",
       "[4] LC_NUMERIC=C                          \n",
       "[5] LC_TIME=English_United States.1252    \n",
       "\n",
       "attached base packages:\n",
       "[1] stats     graphics  grDevices utils     datasets  methods   base     \n",
       "\n",
       "other attached packages:\n",
       "[1] RevoUtils_10.0.8     RevoUtilsMath_10.0.1\n",
       "\n",
       "loaded via a namespace (and not attached):\n",
       " [1] compiler_3.4.3  R6_2.2.2        magrittr_1.5    IRdisplay_0.4.4\n",
       " [5] pbdZMQ_0.2-6    tools_3.4.3     crayon_1.3.4    uuid_0.1-2     \n",
       " [9] stringi_1.1.6   IRkernel_0.8.11 jsonlite_1.5    stringr_1.2.0  \n",
       "[13] digest_0.6.13   repr_0.12.0     evaluate_0.10.1"
      ]
     },
     "metadata": {},
     "output_type": "display_data"
    },
    {
     "data": {},
     "metadata": {},
     "output_type": "display_data"
    }
   ],
   "source": [
    "sessionInfo() #Shows the currently loaded and attached packages\n",
    "library() #Shows the currently available packages, want all below to be available\n",
    "#install.packages(\"ggplot2\")\n",
    "#install.packages(\"ROCR\") *\n",
    "#install.packages(\"lubridate\")\n",
    "#install.packages(\"caret\")\n",
    "#install.packages(\"e1071\") *\n",
    "#install.packages(\"dplyr\")\n",
    "#install.packages(\"MASS\")"
   ]
  },
  {
   "cell_type": "code",
   "execution_count": 1,
   "metadata": {},
   "outputs": [
    {
     "name": "stderr",
     "output_type": "stream",
     "text": [
      "Loading required package: gplots\n",
      "\n",
      "Attaching package: 'gplots'\n",
      "\n",
      "The following object is masked from 'package:stats':\n",
      "\n",
      "    lowess\n",
      "\n",
      "\n",
      "Attaching package: 'lubridate'\n",
      "\n",
      "The following object is masked from 'package:base':\n",
      "\n",
      "    date\n",
      "\n",
      "Loading required package: caret\n",
      "Loading required package: lattice\n",
      "\n",
      "Attaching package: 'dplyr'\n",
      "\n",
      "The following objects are masked from 'package:lubridate':\n",
      "\n",
      "    intersect, setdiff, union\n",
      "\n",
      "The following objects are masked from 'package:stats':\n",
      "\n",
      "    filter, lag\n",
      "\n",
      "The following objects are masked from 'package:base':\n",
      "\n",
      "    intersect, setdiff, setequal, union\n",
      "\n"
     ]
    }
   ],
   "source": [
    "library(ggplot2)\n",
    "library(ROCR)\n",
    "library(lubridate)\n",
    "require(caret)\n",
    "library(e1071)\n",
    "library(readr)\n",
    "library(dplyr)"
   ]
  },
  {
   "cell_type": "markdown",
   "metadata": {},
   "source": [
    "# Prepare Data\n",
    "### * Clean and merge the data Arielle-style. Only needs to be done once.\n",
    "### * Then save the data for faster loading later."
   ]
  },
  {
   "cell_type": "code",
   "execution_count": 1,
   "metadata": {},
   "outputs": [
    {
     "ename": "ERROR",
     "evalue": "Error in read_csv(\"io/Projects.csv\", col_types = cols(`Project Essay` = col_skip(), : could not find function \"read_csv\"\n",
     "output_type": "error",
     "traceback": [
      "Error in read_csv(\"io/Projects.csv\", col_types = cols(`Project Essay` = col_skip(), : could not find function \"read_csv\"\nTraceback:\n"
     ]
    }
   ],
   "source": [
    "#Load in Projects and Schools files. Exclude a few columns.\n",
    "Projects <- read_csv(\"io/Projects.csv\", col_types = cols(`Project Essay` = col_skip(), `Project Need Statement` = col_skip(), `Project Short Description` = col_skip(), `Project Subject Subcategory Tree` = col_skip(), `Project Title` = col_skip()))\n",
    "Schools <- read_csv(\"io/Schools.csv\")"
   ]
  },
  {
   "cell_type": "code",
   "execution_count": 4,
   "metadata": {},
   "outputs": [
    {
     "name": "stderr",
     "output_type": "stream",
     "text": [
      "Parsed with column specification:\n",
      "cols(\n",
      "  `School ID` = col_character(),\n",
      "  `School Name` = col_character(),\n",
      "  `School Metro Type` = col_character(),\n",
      "  `School Percentage Free Lunch` = col_integer(),\n",
      "  `School State` = col_character(),\n",
      "  `School Zip` = col_character(),\n",
      "  `School City` = col_character(),\n",
      "  `School County` = col_character(),\n",
      "  `School District` = col_character()\n",
      ")\n"
     ]
    }
   ],
   "source": [
    "#Combine/merge School and Projects data\n",
    "data <- merge(Projects, Schools, by = \"School ID\")\n",
    "names(data) <- c(\"school.id\", \"project.id\", \"teacher.id\", \"teacher.proj.seq\", \"project.type\", \"project.subject\", \"project.grade\", \"project.resource\", \"project.cost\", \"project.start.date\", \"project.exp.date\", \"project.status\", \"project.funded.date\", \"school.name\", \"school.metro.type\", \"school.percent.lunch\", \"school.state\", \"school.zip\", \"school.city\", \"school.county\", \"school.district\" )"
   ]
  },
  {
   "cell_type": "code",
   "execution_count": 5,
   "metadata": {},
   "outputs": [
    {
     "data": {
      "text/html": [
       "<ol class=list-inline>\n",
       "\t<li>'Expired'</li>\n",
       "\t<li>'Fully Funded'</li>\n",
       "</ol>\n"
      ],
      "text/latex": [
       "\\begin{enumerate*}\n",
       "\\item 'Expired'\n",
       "\\item 'Fully Funded'\n",
       "\\end{enumerate*}\n"
      ],
      "text/markdown": [
       "1. 'Expired'\n",
       "2. 'Fully Funded'\n",
       "\n",
       "\n"
      ],
      "text/plain": [
       "[1] \"Expired\"      \"Fully Funded\""
      ]
     },
     "metadata": {},
     "output_type": "display_data"
    },
    {
     "data": {
      "text/html": [
       "<table>\n",
       "<thead><tr><th></th><th scope=col>Fully Funded</th></tr></thead>\n",
       "<tbody>\n",
       "\t<tr><th scope=row>Expired</th><td>0</td></tr>\n",
       "\t<tr><th scope=row>Fully Funded</th><td>1</td></tr>\n",
       "</tbody>\n",
       "</table>\n"
      ],
      "text/latex": [
       "\\begin{tabular}{r|l}\n",
       "  & Fully Funded\\\\\n",
       "\\hline\n",
       "\tExpired & 0\\\\\n",
       "\tFully Funded & 1\\\\\n",
       "\\end{tabular}\n"
      ],
      "text/markdown": [
       "\n",
       "| <!--/--> | Fully Funded | \n",
       "|---|---|\n",
       "| Expired | 0 | \n",
       "| Fully Funded | 1 | \n",
       "\n",
       "\n"
      ],
      "text/plain": [
       "             Fully Funded\n",
       "Expired      0           \n",
       "Fully Funded 1           "
      ]
     },
     "metadata": {},
     "output_type": "display_data"
    }
   ],
   "source": [
    "#Clean the merged data\n",
    "projectdata <- filter(data, project.status != \"Live\")\n",
    "#createdatapartition() look it up\n",
    "\n",
    "projectdata <- dplyr::filter(data, project.status != \"Live\")\n",
    "#projectdata <- lapply(projectdata, gsub, pattern = \"unknown\", replacement = \"uk\", fixed = TRUE) #Alec added this\n",
    "projectdata <- dplyr::filter(projectdata, !is.na(project.status))\n",
    "projectdata <- dplyr::filter(projectdata, !is.na(project.subject))\n",
    "projectdata$project.status <- as.factor(projectdata$project.status)\n",
    "levels(projectdata$project.status)\n",
    "contrasts(projectdata$project.status)\n",
    "\n",
    "projectdata <- dplyr::filter(projectdata, !is.na(project.resource))\n",
    "projectdata <- dplyr::filter(projectdata, !is.na(school.metro.type))\n",
    "projectdata <- dplyr::filter(projectdata, !is.na(school.percent.lunch))\n",
    "projectdata <- dplyr::filter(projectdata, !is.na(school.state))\n",
    "\n",
    "#Rename Project Categories\n",
    "project_lkup <- c(\"Applied Learning\" = \"Applied Learning\",\"Math & Science\" = \"Math & Science\", \"History & Civics\" = \"History & Civics\", \"Health & Sports\" = \"Health & Sports\", \"Special Needs\" = \"Special Needs\", \"Literacy & Language\" = \"Literacy & Language\", \"Warmth, Care & Hunger\" = \"Warmth, Care & Hunger\", \"Music & The Arts\" = \"Music & The Arts\",  \"Applied Learning, Literacy & Language\" = \"Applied Learning\", \"History & Civics, Math & Science\" = \"History & Civics\", \"Literacy & Language, Special Needs\" = \"Special Needs\",\n",
    "                 \"Applied Learning, Special Needs\" = \"Special Needs\", \"Health & Sports, Special Needs\" = \"Special Needs\",\n",
    "                 \"Math & Science, Literacy & Language\" = \"Math & Science\", \"Literacy & Language, Math & Science\" = \"Literacy & Language\", \"Literacy & Language, Music & The Arts\" = \"Music & The Arts\", \"Math & Science, Special Needs\" = \"Special Needs\", \"Math & Science, Applied Learning\" = \"Math & Science\",\n",
    "                 \"Literacy & Language, Applied Learning\" = \"Literacy & Language\", \"Applied Learning, Music & The Arts\" = \"Music & The Arts\", \"History & Civics, Literacy & Language\" = \"History & Civics\", \"Applied Learning, Math & Science\" = \"Applied Learning\", \"Health & Sports, Math & Science\" = \"Health & Sports\", \"Applied Learning, Health & Sports\" = \"Health & Sports\", \"History & Civics, Music & The Arts\" = \"History & Civics\", \"Math & Science, History & Civics\" = \"Math & Science\", \"Math & Science, Music & The Arts\" = \"Music & The Arts\", \"Special Needs, Music & The Arts\" = \"Special Needs\", \"History & Civics, Applied Learning\" = \"History & Civics\", \"History & Civics, Special Needs\" = \"Special Needs\", \"Music & The Arts, Special Needs\" = \"Special Needs\", \"Literacy & Language, Health & Sports\" = \"Literacy & Language\", \"Math & Science, Health & Sports\" = \"Math & Science\", \"Health & Sports, Literacy & Language\" = \"Health & Sports\", \"Applied Learning, History & Civics\" = \"Applied Learning\", \"Music & The Arts, History & Civics\" = \"Music & The Arts\", \"Health & Sports, Applied Learning\" = \"Health & Sports\", \"Music & The Arts, Applied Learning\" = \"Music & The Arts\", \"Health & Sports, Music & The Arts\" = \"Health & Sports\", \"Special Needs, Health & Sports\" = \"Special Needs\", \"History & Civics, Health & Sports\" = \"History & Civics\", \"Music & The Arts, Health & Sports\" = \"Music & The Arts\", \"Health & Sports, History & Civics\" = \"Health & Sports\", \"Health & Sports, Warmth, Care & Hunger\" = \"Warmth, Care & Hunger\", \"Special Needs, Warmth, Care & Hunger\" = \"Special Needs\", \"Math & Science, Warmth, Care & Hunger\" = \"Warmth, Care & Hunger\", \"Applied Learning, Warmth, Care & Hunger\" = \"Warmth, Care & Hunger\",\n",
    "                 \"Literacy & Language, Warmth, Care & Hunger\" = \"Warmth, Care & Hunger\", \"History & Civics, Warmth, Care & Hunger\" = \"Warmth, Care & Hunger\",\n",
    "                 \"Music & The Arts, Warmth, Care & Hunger\" = \"Music & The Arts\", \"Literacy & Language, History & Civics\" = \"Literacy & Language\")\n",
    "projectdata$proj.type.clean <- as.character(project_lkup[projectdata$project.subject])"
   ]
  },
  {
   "cell_type": "code",
   "execution_count": 6,
   "metadata": {},
   "outputs": [],
   "source": [
    "projectdata$proj.time.up <- projectdata$project.exp.date - projectdata$project.start.date\n",
    "projectdata <- dplyr::filter(projectdata, proj.time.up > 6)\n",
    "projectdata$week.start.date <- as.factor(week(projectdata$project.start.date))\n",
    "projectdata$year.start.date <- as.factor(year(projectdata$project.start.date))\n",
    "projectdata <- dplyr::filter(projectdata, school.metro.type != \"unknown\")\n",
    "\n",
    "projectdata$week.start.date <- as.factor(projectdata$week.start.date)\n",
    "projectdata$year.start.date <- as.factor(projectdata$year.start.date)\n",
    "projectdata$project.status <- make.names(projectdata$project.status)\n",
    "projectdata$project.status <- as.factor(projectdata$project.status)"
   ]
  },
  {
   "cell_type": "code",
   "execution_count": 11,
   "metadata": {},
   "outputs": [
    {
     "ename": "ERROR",
     "evalue": "Error in head(projectdata): object 'projectdata' not found\n",
     "output_type": "error",
     "traceback": [
      "Error in head(projectdata): object 'projectdata' not found\nTraceback:\n",
      "1. head(projectdata)"
     ]
    }
   ],
   "source": [
    "#Check the morege, edits, and write outputs for easier loading later.\n",
    "head(projectdata)\n",
    "write_csv(projectdata,\"io/ArielleMerge.csv\")"
   ]
  },
  {
   "cell_type": "markdown",
   "metadata": {},
   "source": [
    "# Perform Cosine Similarity using Arielle's Merged dataset "
   ]
  },
  {
   "cell_type": "markdown",
   "metadata": {},
   "source": [
    "### Load data"
   ]
  },
  {
   "cell_type": "code",
   "execution_count": 2,
   "metadata": {},
   "outputs": [
    {
     "name": "stderr",
     "output_type": "stream",
     "text": [
      "Parsed with column specification:\n",
      "cols(\n",
      "  .default = col_character(),\n",
      "  teacher.proj.seq = col_integer(),\n",
      "  project.cost = col_double(),\n",
      "  project.start.date = col_date(format = \"\"),\n",
      "  project.exp.date = col_date(format = \"\"),\n",
      "  project.funded.date = col_date(format = \"\"),\n",
      "  school.percent.lunch = col_integer(),\n",
      "  proj.time.up = col_integer(),\n",
      "  week.start.date = col_integer(),\n",
      "  year.start.date = col_integer()\n",
      ")\n",
      "See spec(...) for full column specifications.\n"
     ]
    },
    {
     "data": {
      "text/html": [
       "<ol class=list-inline>\n",
       "\t<li>976554</li>\n",
       "\t<li>25</li>\n",
       "</ol>\n"
      ],
      "text/latex": [
       "\\begin{enumerate*}\n",
       "\\item 976554\n",
       "\\item 25\n",
       "\\end{enumerate*}\n"
      ],
      "text/markdown": [
       "1. 976554\n",
       "2. 25\n",
       "\n",
       "\n"
      ],
      "text/plain": [
       "[1] 976554     25"
      ]
     },
     "metadata": {},
     "output_type": "display_data"
    },
    {
     "data": {
      "text/html": [
       "976552"
      ],
      "text/latex": [
       "976552"
      ],
      "text/markdown": [
       "976552"
      ],
      "text/plain": [
       "[1] 976552"
      ]
     },
     "metadata": {},
     "output_type": "display_data"
    }
   ],
   "source": [
    "#Load the data\n",
    "data <- read_csv(\"io/ArielleMerge.csv\")\n",
    "dim(data)\n",
    "length(unique(data$project.id))"
   ]
  },
  {
   "cell_type": "markdown",
   "metadata": {},
   "source": [
    "### Vectorize and Numeric-ize the Categorical Features\n",
    "Some features are categories, some are integers. We want these features to be recoded to the \"numeric\" object type.\n",
    "\n",
    "Then later, we can choose which features to use for the cosines similarity."
   ]
  },
  {
   "cell_type": "code",
   "execution_count": 3,
   "metadata": {},
   "outputs": [
    {
     "data": {
      "text/html": [
       "<ol class=list-inline>\n",
       "\t<li>'Grades 3-5'</li>\n",
       "\t<li>'Grades 6-8'</li>\n",
       "\t<li>'Grades 9-12'</li>\n",
       "\t<li>'Grades PreK-2'</li>\n",
       "\t<li>'unknown'</li>\n",
       "</ol>\n"
      ],
      "text/latex": [
       "\\begin{enumerate*}\n",
       "\\item 'Grades 3-5'\n",
       "\\item 'Grades 6-8'\n",
       "\\item 'Grades 9-12'\n",
       "\\item 'Grades PreK-2'\n",
       "\\item 'unknown'\n",
       "\\end{enumerate*}\n"
      ],
      "text/markdown": [
       "1. 'Grades 3-5'\n",
       "2. 'Grades 6-8'\n",
       "3. 'Grades 9-12'\n",
       "4. 'Grades PreK-2'\n",
       "5. 'unknown'\n",
       "\n",
       "\n"
      ],
      "text/plain": [
       "[1] \"Grades 3-5\"    \"Grades 6-8\"    \"Grades 9-12\"   \"Grades PreK-2\"\n",
       "[5] \"unknown\"      "
      ]
     },
     "metadata": {},
     "output_type": "display_data"
    },
    {
     "data": {
      "text/html": [
       "<ol class=list-inline>\n",
       "\t<li>'rural'</li>\n",
       "\t<li>'suburban'</li>\n",
       "\t<li>'town'</li>\n",
       "\t<li>'urban'</li>\n",
       "</ol>\n"
      ],
      "text/latex": [
       "\\begin{enumerate*}\n",
       "\\item 'rural'\n",
       "\\item 'suburban'\n",
       "\\item 'town'\n",
       "\\item 'urban'\n",
       "\\end{enumerate*}\n"
      ],
      "text/markdown": [
       "1. 'rural'\n",
       "2. 'suburban'\n",
       "3. 'town'\n",
       "4. 'urban'\n",
       "\n",
       "\n"
      ],
      "text/plain": [
       "[1] \"rural\"    \"suburban\" \"town\"     \"urban\"   "
      ]
     },
     "metadata": {},
     "output_type": "display_data"
    },
    {
     "data": {
      "text/html": [
       "1752"
      ],
      "text/latex": [
       "1752"
      ],
      "text/markdown": [
       "1752"
      ],
      "text/plain": [
       "[1] 1752"
      ]
     },
     "metadata": {},
     "output_type": "display_data"
    },
    {
     "data": {
      "text/html": [
       "<dl class=dl-horizontal>\n",
       "\t<dt>school.id</dt>\n",
       "\t\t<dd>'character'</dd>\n",
       "\t<dt>project.id</dt>\n",
       "\t\t<dd>'character'</dd>\n",
       "\t<dt>teacher.id</dt>\n",
       "\t\t<dd>'character'</dd>\n",
       "\t<dt>teacher.proj.seq</dt>\n",
       "\t\t<dd>'integer'</dd>\n",
       "\t<dt>project.type</dt>\n",
       "\t\t<dd>'character'</dd>\n",
       "\t<dt>project.subject</dt>\n",
       "\t\t<dd>'character'</dd>\n",
       "\t<dt>project.grade</dt>\n",
       "\t\t<dd>'numeric'</dd>\n",
       "\t<dt>project.resource</dt>\n",
       "\t\t<dd>'character'</dd>\n",
       "\t<dt>project.cost</dt>\n",
       "\t\t<dd>'numeric'</dd>\n",
       "\t<dt>project.start.date</dt>\n",
       "\t\t<dd>'Date'</dd>\n",
       "\t<dt>project.exp.date</dt>\n",
       "\t\t<dd>'Date'</dd>\n",
       "\t<dt>project.status</dt>\n",
       "\t\t<dd>'character'</dd>\n",
       "\t<dt>project.funded.date</dt>\n",
       "\t\t<dd>'Date'</dd>\n",
       "\t<dt>school.name</dt>\n",
       "\t\t<dd>'character'</dd>\n",
       "\t<dt>school.metro.type</dt>\n",
       "\t\t<dd>'numeric'</dd>\n",
       "\t<dt>school.percent.lunch</dt>\n",
       "\t\t<dd>'numeric'</dd>\n",
       "\t<dt>school.state</dt>\n",
       "\t\t<dd>'character'</dd>\n",
       "\t<dt>school.zip</dt>\n",
       "\t\t<dd>'character'</dd>\n",
       "\t<dt>school.city</dt>\n",
       "\t\t<dd>'character'</dd>\n",
       "\t<dt>school.county</dt>\n",
       "\t\t<dd>'factor'</dd>\n",
       "\t<dt>school.district</dt>\n",
       "\t\t<dd>'character'</dd>\n",
       "\t<dt>proj.type.clean</dt>\n",
       "\t\t<dd>'character'</dd>\n",
       "\t<dt>proj.time.up</dt>\n",
       "\t\t<dd>'integer'</dd>\n",
       "\t<dt>week.start.date</dt>\n",
       "\t\t<dd>'integer'</dd>\n",
       "\t<dt>year.start.date</dt>\n",
       "\t\t<dd>'integer'</dd>\n",
       "</dl>\n"
      ],
      "text/latex": [
       "\\begin{description*}\n",
       "\\item[school.id] 'character'\n",
       "\\item[project.id] 'character'\n",
       "\\item[teacher.id] 'character'\n",
       "\\item[teacher.proj.seq] 'integer'\n",
       "\\item[project.type] 'character'\n",
       "\\item[project.subject] 'character'\n",
       "\\item[project.grade] 'numeric'\n",
       "\\item[project.resource] 'character'\n",
       "\\item[project.cost] 'numeric'\n",
       "\\item[project.start.date] 'Date'\n",
       "\\item[project.exp.date] 'Date'\n",
       "\\item[project.status] 'character'\n",
       "\\item[project.funded.date] 'Date'\n",
       "\\item[school.name] 'character'\n",
       "\\item[school.metro.type] 'numeric'\n",
       "\\item[school.percent.lunch] 'numeric'\n",
       "\\item[school.state] 'character'\n",
       "\\item[school.zip] 'character'\n",
       "\\item[school.city] 'character'\n",
       "\\item[school.county] 'factor'\n",
       "\\item[school.district] 'character'\n",
       "\\item[proj.type.clean] 'character'\n",
       "\\item[proj.time.up] 'integer'\n",
       "\\item[week.start.date] 'integer'\n",
       "\\item[year.start.date] 'integer'\n",
       "\\end{description*}\n"
      ],
      "text/markdown": [
       "school.id\n",
       ":   'character'project.id\n",
       ":   'character'teacher.id\n",
       ":   'character'teacher.proj.seq\n",
       ":   'integer'project.type\n",
       ":   'character'project.subject\n",
       ":   'character'project.grade\n",
       ":   'numeric'project.resource\n",
       ":   'character'project.cost\n",
       ":   'numeric'project.start.date\n",
       ":   'Date'project.exp.date\n",
       ":   'Date'project.status\n",
       ":   'character'project.funded.date\n",
       ":   'Date'school.name\n",
       ":   'character'school.metro.type\n",
       ":   'numeric'school.percent.lunch\n",
       ":   'numeric'school.state\n",
       ":   'character'school.zip\n",
       ":   'character'school.city\n",
       ":   'character'school.county\n",
       ":   'factor'school.district\n",
       ":   'character'proj.type.clean\n",
       ":   'character'proj.time.up\n",
       ":   'integer'week.start.date\n",
       ":   'integer'year.start.date\n",
       ":   'integer'\n",
       "\n"
      ],
      "text/plain": [
       "           school.id           project.id           teacher.id \n",
       "         \"character\"          \"character\"          \"character\" \n",
       "    teacher.proj.seq         project.type      project.subject \n",
       "           \"integer\"          \"character\"          \"character\" \n",
       "       project.grade     project.resource         project.cost \n",
       "           \"numeric\"          \"character\"            \"numeric\" \n",
       "  project.start.date     project.exp.date       project.status \n",
       "              \"Date\"               \"Date\"          \"character\" \n",
       " project.funded.date          school.name    school.metro.type \n",
       "              \"Date\"          \"character\"            \"numeric\" \n",
       "school.percent.lunch         school.state           school.zip \n",
       "           \"numeric\"          \"character\"          \"character\" \n",
       "         school.city        school.county      school.district \n",
       "         \"character\"             \"factor\"          \"character\" \n",
       "     proj.type.clean         proj.time.up      week.start.date \n",
       "         \"character\"            \"integer\"            \"integer\" \n",
       "     year.start.date \n",
       "           \"integer\" "
      ]
     },
     "metadata": {},
     "output_type": "display_data"
    }
   ],
   "source": [
    "#Work with a new copy of our data for vectorized features\n",
    "datacode = data\n",
    "\n",
    "# First, store variables of interest in \"factor\" object classes (ultimately an integer)\n",
    "datacode$project.grade <- as.factor(datacode$project.grade)\n",
    "datacode$school.metro.type <- as.factor(datacode$school.metro.type)\n",
    "datacode$school.county <- as.factor(datacode$school.county)\n",
    "#https://stackoverflow.com/questions/9251326/convert-data-frame-column-format-from-character-to-factor\n",
    "\n",
    "# Second, observe each feature's categorical values so we know what we will encode\n",
    "# From last step, our data is of the 'factor' class, meaning categorical information is readily available as 'levels'\n",
    "#https://cran.r-project.org/doc/contrib/de_Jonge+van_der_Loo-Introduction_to_data_cleaning_with_R.pdf\n",
    "levels(datacode$project.grade)\n",
    "levels(datacode$school.metro.type)\n",
    "length(levels(datacode$school.county)) #> 1750 categories. Thats a lot of unique values, lets NOT encode or use it.\n",
    "#another option is to use unique()\n",
    "#unique(data[,\"project.grade\"])\n",
    "#https://www.quora.com/How-can-I-get-a-count-of-all-unique-values-in-a-Column-in-R-language\n",
    "\n",
    "# Third, recode our factors. --> FEATURE ENCODING IS SUBJECTIVE <--\n",
    "#https://dplyr.tidyverse.org/reference/recode.html\n",
    "lvlkey_g = list('Grades PreK-2' =-2, 'Grades 3-5'=-1, 'unknown'=0, 'Grades 6-8'=1, 'Grades 9-12'=2)\n",
    "lvlkey_m = list(rural =-2, town =-1, suburban =1, urban =2)\n",
    "datacode$project.grade = recode(datacode$project.grade, !!!lvlkey_g) #We could as.integer these to save space, but math will be done on them soon as 'numeric' doubles anyways\n",
    "datacode$school.metro.type = recode(datacode$school.metro.type, !!!lvlkey_m)\n",
    "#Model Matrix and a 1-hot encoding might also be what we want, but i'm having a hard time using it for desired output: http://appliedpredictivemodeling.com/blog/2013/10/23/the-basics-of-encoding-categorical-data-for-predictive-models\n",
    "#model.matrix(~ordered(levels(datacode$project.grade)))\n",
    "\n",
    "# Last, integer data only needs to be numeric-ized, not factorized.\n",
    "#datacode$project.id = as.numeric(datacode$project.id)\n",
    "datacode$project.cost = as.numeric(datacode$project.cost)\n",
    "datacode$school.percent.lunch = as.numeric(datacode$school.percent.lunch)\n",
    "\n",
    "#Check that your features of interest are all 'numeric' type\n",
    "sapply(datacode,class)"
   ]
  },
  {
   "cell_type": "markdown",
   "metadata": {},
   "source": [
    "# Choose your features and Normalize"
   ]
  },
  {
   "cell_type": "code",
   "execution_count": 72,
   "metadata": {},
   "outputs": [
    {
     "data": {
      "text/html": [
       "<table>\n",
       "<thead><tr><th scope=col>project.id</th><th scope=col>project.grade</th><th scope=col>project.cost</th><th scope=col>school.metro.type</th><th scope=col>school.percent.lunch</th></tr></thead>\n",
       "<tbody>\n",
       "\t<tr><td>1815a6f14dab5590700f5c127fa71448</td><td>1                               </td><td>156.31                          </td><td>-2                              </td><td>56                              </td></tr>\n",
       "\t<tr><td>582bfe05fcd091340103012ac67b9c60</td><td>1                               </td><td>515.26                          </td><td>-2                              </td><td>56                              </td></tr>\n",
       "\t<tr><td>8474892544b0eb8fadac379c74e065cf</td><td>1                               </td><td>214.41                          </td><td>-2                              </td><td>56                              </td></tr>\n",
       "\t<tr><td>09b528fd601205e99597a91c57ebc8d1</td><td>1                               </td><td>174.78                          </td><td>-2                              </td><td>56                              </td></tr>\n",
       "\t<tr><td>edba9de10e797c10cf38780e66fdd03d</td><td>1                               </td><td>252.81                          </td><td>-2                              </td><td>56                              </td></tr>\n",
       "\t<tr><td>b3f3b7405b865c15cb29b8edb5f8c329</td><td>1                               </td><td>396.40                          </td><td>-2                              </td><td>56                              </td></tr>\n",
       "</tbody>\n",
       "</table>\n"
      ],
      "text/latex": [
       "\\begin{tabular}{r|lllll}\n",
       " project.id & project.grade & project.cost & school.metro.type & school.percent.lunch\\\\\n",
       "\\hline\n",
       "\t 1815a6f14dab5590700f5c127fa71448 & 1                                & 156.31                           & -2                               & 56                              \\\\\n",
       "\t 582bfe05fcd091340103012ac67b9c60 & 1                                & 515.26                           & -2                               & 56                              \\\\\n",
       "\t 8474892544b0eb8fadac379c74e065cf & 1                                & 214.41                           & -2                               & 56                              \\\\\n",
       "\t 09b528fd601205e99597a91c57ebc8d1 & 1                                & 174.78                           & -2                               & 56                              \\\\\n",
       "\t edba9de10e797c10cf38780e66fdd03d & 1                                & 252.81                           & -2                               & 56                              \\\\\n",
       "\t b3f3b7405b865c15cb29b8edb5f8c329 & 1                                & 396.40                           & -2                               & 56                              \\\\\n",
       "\\end{tabular}\n"
      ],
      "text/markdown": [
       "\n",
       "project.id | project.grade | project.cost | school.metro.type | school.percent.lunch | \n",
       "|---|---|---|---|---|---|\n",
       "| 1815a6f14dab5590700f5c127fa71448 | 1                                | 156.31                           | -2                               | 56                               | \n",
       "| 582bfe05fcd091340103012ac67b9c60 | 1                                | 515.26                           | -2                               | 56                               | \n",
       "| 8474892544b0eb8fadac379c74e065cf | 1                                | 214.41                           | -2                               | 56                               | \n",
       "| 09b528fd601205e99597a91c57ebc8d1 | 1                                | 174.78                           | -2                               | 56                               | \n",
       "| edba9de10e797c10cf38780e66fdd03d | 1                                | 252.81                           | -2                               | 56                               | \n",
       "| b3f3b7405b865c15cb29b8edb5f8c329 | 1                                | 396.40                           | -2                               | 56                               | \n",
       "\n",
       "\n"
      ],
      "text/plain": [
       "  project.id                       project.grade project.cost school.metro.type\n",
       "1 1815a6f14dab5590700f5c127fa71448 1             156.31       -2               \n",
       "2 582bfe05fcd091340103012ac67b9c60 1             515.26       -2               \n",
       "3 8474892544b0eb8fadac379c74e065cf 1             214.41       -2               \n",
       "4 09b528fd601205e99597a91c57ebc8d1 1             174.78       -2               \n",
       "5 edba9de10e797c10cf38780e66fdd03d 1             252.81       -2               \n",
       "6 b3f3b7405b865c15cb29b8edb5f8c329 1             396.40       -2               \n",
       "  school.percent.lunch\n",
       "1 56                  \n",
       "2 56                  \n",
       "3 56                  \n",
       "4 56                  \n",
       "5 56                  \n",
       "6 56                  "
      ]
     },
     "metadata": {},
     "output_type": "display_data"
    },
    {
     "data": {
      "text/html": [
       "<dl class=dl-horizontal>\n",
       "\t<dt>project.id</dt>\n",
       "\t\t<dd>'character'</dd>\n",
       "\t<dt>project.grade</dt>\n",
       "\t\t<dd>'numeric'</dd>\n",
       "\t<dt>project.cost</dt>\n",
       "\t\t<dd>'numeric'</dd>\n",
       "\t<dt>school.metro.type</dt>\n",
       "\t\t<dd>'numeric'</dd>\n",
       "\t<dt>school.percent.lunch</dt>\n",
       "\t\t<dd>'numeric'</dd>\n",
       "</dl>\n"
      ],
      "text/latex": [
       "\\begin{description*}\n",
       "\\item[project.id] 'character'\n",
       "\\item[project.grade] 'numeric'\n",
       "\\item[project.cost] 'numeric'\n",
       "\\item[school.metro.type] 'numeric'\n",
       "\\item[school.percent.lunch] 'numeric'\n",
       "\\end{description*}\n"
      ],
      "text/markdown": [
       "project.id\n",
       ":   'character'project.grade\n",
       ":   'numeric'project.cost\n",
       ":   'numeric'school.metro.type\n",
       ":   'numeric'school.percent.lunch\n",
       ":   'numeric'\n",
       "\n"
      ],
      "text/plain": [
       "          project.id        project.grade         project.cost \n",
       "         \"character\"            \"numeric\"            \"numeric\" \n",
       "   school.metro.type school.percent.lunch \n",
       "           \"numeric\"            \"numeric\" "
      ]
     },
     "metadata": {},
     "output_type": "display_data"
    },
    {
     "data": {
      "text/html": [
       "<ol class=list-inline>\n",
       "\t<li>'tbl_df'</li>\n",
       "\t<li>'tbl'</li>\n",
       "\t<li>'data.frame'</li>\n",
       "</ol>\n"
      ],
      "text/latex": [
       "\\begin{enumerate*}\n",
       "\\item 'tbl\\_df'\n",
       "\\item 'tbl'\n",
       "\\item 'data.frame'\n",
       "\\end{enumerate*}\n"
      ],
      "text/markdown": [
       "1. 'tbl_df'\n",
       "2. 'tbl'\n",
       "3. 'data.frame'\n",
       "\n",
       "\n"
      ],
      "text/plain": [
       "[1] \"tbl_df\"     \"tbl\"        \"data.frame\""
      ]
     },
     "metadata": {},
     "output_type": "display_data"
    },
    {
     "data": {
      "text/html": [
       "<table>\n",
       "<thead><tr><th scope=col>project.id</th><th scope=col>project.grade</th><th scope=col>project.cost</th><th scope=col>school.metro.type</th><th scope=col>school.percent.lunch</th></tr></thead>\n",
       "<tbody>\n",
       "\t<tr><td>1815a6f14dab5590700f5c127fa71448</td><td>0.5                             </td><td>-0.9990534                      </td><td>-1                              </td><td>0.12                            </td></tr>\n",
       "\t<tr><td>582bfe05fcd091340103012ac67b9c60</td><td>0.5                             </td><td>-0.9962459                      </td><td>-1                              </td><td>0.12                            </td></tr>\n",
       "\t<tr><td>8474892544b0eb8fadac379c74e065cf</td><td>0.5                             </td><td>-0.9985990                      </td><td>-1                              </td><td>0.12                            </td></tr>\n",
       "\t<tr><td>09b528fd601205e99597a91c57ebc8d1</td><td>0.5                             </td><td>-0.9989090                      </td><td>-1                              </td><td>0.12                            </td></tr>\n",
       "\t<tr><td>edba9de10e797c10cf38780e66fdd03d</td><td>0.5                             </td><td>-0.9982986                      </td><td>-1                              </td><td>0.12                            </td></tr>\n",
       "\t<tr><td>b3f3b7405b865c15cb29b8edb5f8c329</td><td>0.5                             </td><td>-0.9971755                      </td><td>-1                              </td><td>0.12                            </td></tr>\n",
       "</tbody>\n",
       "</table>\n"
      ],
      "text/latex": [
       "\\begin{tabular}{r|lllll}\n",
       " project.id & project.grade & project.cost & school.metro.type & school.percent.lunch\\\\\n",
       "\\hline\n",
       "\t 1815a6f14dab5590700f5c127fa71448 & 0.5                              & -0.9990534                       & -1                               & 0.12                            \\\\\n",
       "\t 582bfe05fcd091340103012ac67b9c60 & 0.5                              & -0.9962459                       & -1                               & 0.12                            \\\\\n",
       "\t 8474892544b0eb8fadac379c74e065cf & 0.5                              & -0.9985990                       & -1                               & 0.12                            \\\\\n",
       "\t 09b528fd601205e99597a91c57ebc8d1 & 0.5                              & -0.9989090                       & -1                               & 0.12                            \\\\\n",
       "\t edba9de10e797c10cf38780e66fdd03d & 0.5                              & -0.9982986                       & -1                               & 0.12                            \\\\\n",
       "\t b3f3b7405b865c15cb29b8edb5f8c329 & 0.5                              & -0.9971755                       & -1                               & 0.12                            \\\\\n",
       "\\end{tabular}\n"
      ],
      "text/markdown": [
       "\n",
       "project.id | project.grade | project.cost | school.metro.type | school.percent.lunch | \n",
       "|---|---|---|---|---|---|\n",
       "| 1815a6f14dab5590700f5c127fa71448 | 0.5                              | -0.9990534                       | -1                               | 0.12                             | \n",
       "| 582bfe05fcd091340103012ac67b9c60 | 0.5                              | -0.9962459                       | -1                               | 0.12                             | \n",
       "| 8474892544b0eb8fadac379c74e065cf | 0.5                              | -0.9985990                       | -1                               | 0.12                             | \n",
       "| 09b528fd601205e99597a91c57ebc8d1 | 0.5                              | -0.9989090                       | -1                               | 0.12                             | \n",
       "| edba9de10e797c10cf38780e66fdd03d | 0.5                              | -0.9982986                       | -1                               | 0.12                             | \n",
       "| b3f3b7405b865c15cb29b8edb5f8c329 | 0.5                              | -0.9971755                       | -1                               | 0.12                             | \n",
       "\n",
       "\n"
      ],
      "text/plain": [
       "  project.id                       project.grade project.cost school.metro.type\n",
       "1 1815a6f14dab5590700f5c127fa71448 0.5           -0.9990534   -1               \n",
       "2 582bfe05fcd091340103012ac67b9c60 0.5           -0.9962459   -1               \n",
       "3 8474892544b0eb8fadac379c74e065cf 0.5           -0.9985990   -1               \n",
       "4 09b528fd601205e99597a91c57ebc8d1 0.5           -0.9989090   -1               \n",
       "5 edba9de10e797c10cf38780e66fdd03d 0.5           -0.9982986   -1               \n",
       "6 b3f3b7405b865c15cb29b8edb5f8c329 0.5           -0.9971755   -1               \n",
       "  school.percent.lunch\n",
       "1 0.12                \n",
       "2 0.12                \n",
       "3 0.12                \n",
       "4 0.12                \n",
       "5 0.12                \n",
       "6 0.12                "
      ]
     },
     "metadata": {},
     "output_type": "display_data"
    }
   ],
   "source": [
    "X = datacode[,c(\"project.id\",\"project.grade\",'project.cost',\"school.metro.type\",\"school.percent.lunch\")]\n",
    "head(X)\n",
    "sapply(X,class)\n",
    "class(X)\n",
    "\n",
    "#Normalize all columns to range [-1,1]\n",
    "#There's a function that does this for Machine Learning purposes from the caret package\n",
    "#https://www.rdocumentation.org/packages/caret/versions/6.0-80/topics/preProcess\n",
    "#https://stackoverflow.com/questions/44050028/min-max-scaling-normalization-in-r-for-train-and-test-data\n",
    "pp = preProcess(X, method = \"range\", rangeBounds = c(-1, 1))\n",
    "Xn = predict(pp, X)\n",
    "head(Xn)\n",
    "\n",
    "### Scratch Work ###\n",
    "\n",
    "#Test the preProcess function\n",
    "#test = data.frame(a = 1:6, b = 7:12)\n",
    "#test\n",
    "#pp = preProcess(test, method = \"range\", rangeBounds = c(-1, 1))\n",
    "#predict(pp, test)\n",
    "\n",
    "#An alternative is to do it manually with min-max feature scaling\n",
    "#https://stats.stackexchange.com/questions/178626/how-to-normalize-data-between-1-and-1\n",
    "#https://en.wikipedia.org/wiki/Normalization_(statistics)\n",
    "\n",
    "#Otherwise the \"scale\" function might work but I couldn't figure it out\n",
    "#https://stackoverflow.com/questions/15215457/standardize-data-columns-in-r\n",
    "#https://www.rdocumentation.org/packages/base/versions/3.5.0/topics/scale"
   ]
  },
  {
   "cell_type": "markdown",
   "metadata": {},
   "source": [
    "# Compute Cosine Similarity for Select Rows"
   ]
  },
  {
   "cell_type": "markdown",
   "metadata": {},
   "source": [
    "### Define functions"
   ]
  },
  {
   "cell_type": "code",
   "execution_count": 5,
   "metadata": {},
   "outputs": [],
   "source": [
    "\n",
    "### FUNCTIONS ###\n",
    "\n",
    "#Input: (data frame, row's index, comparison row's index)\n",
    "#Output: cosine similarity\n",
    "cosvec = function(X,i,j)\n",
    "    {\n",
    "    r1 = as.matrix(X[i,-1]) #Get ith row with all columns -column1\n",
    "    r2 = as.matrix(X[j,-1])\n",
    "    return ((r1%*%t(r2)) / (norm(r1, type=\"2\") * norm(r2, type=\"2\"))) #Compute the cosine similarity. t() is transpose. %*% is matrix cross product. norm(x, type = c(\"O\", \"I\", \"F\", \"M\", \"2\"))\n",
    "    }\n",
    "\n",
    "\n",
    "#Input: (data frame, lowest row index, highest row index)\n",
    "#Output: 'cosine similarity matrix'. It is upper triangular. Containes cosine similarity between all row pairs in the low-high range.\n",
    "cosim = function(X,lo,hi)\n",
    "    {\n",
    "    out = matrix(NA,nrow=(hi-lo)+1,ncol=(hi-lo)+1)\n",
    "    for (i in lo:hi)\n",
    "        {\n",
    "        for (j in i:hi)\n",
    "            {\n",
    "            ix = i-lo + 1\n",
    "            jx = j-lo + 1\n",
    "            out[ix,jx] = cosvec(X,i,j)#Compare all vectors between lo,hi. Show this in a vector. Only upper triangluar is needed.\n",
    "            }\n",
    "        }\n",
    "    return (out)\n",
    "    }\n",
    "#For example, the first row second column out[1,2] shows how element 'lo' is similar to element 'lo+1'\n",
    "#The following data frame \"A\" has 4 rows and 4 features. We select to compare rows b->d with lo=b\n",
    "#\n",
    "# >> cosim(A,2,4)\n",
    "#\n",
    "# >>\n",
    "#       \"A\"              \"out\"\n",
    "#   f1 f2 f3 f4       b   c   d\n",
    "#   -----------      ----------\n",
    "# a| 2 -1  5  2    b| 1  .5   1\n",
    "# b| 2  3  2  1 -> c| na  1  .5\n",
    "# c| 1  1  1  1    d| na  na  1\n",
    "# d| 2  3  2  1\n",
    "\n",
    "#Input: (data frame, target row index, lowest row index, highest row index)\n",
    "#Output: 'cosine similarity vector'. Contains the cosine similarity between one target row and all rows in the low-high range.\n",
    "cosingle = function(X,target,lo,hi)\n",
    "    {\n",
    "    out = matrix(NA,nrow=(hi-lo),ncol=1)\n",
    "    #print(dim(out))\n",
    "    for (i in lo:hi)\n",
    "        {\n",
    "        ix = i-lo\n",
    "        out[ix,1] = cosvec(X,target,i) #Compare target against all vectors between lo,hi. Show this in a vector.\n",
    "        }\n",
    "    return (out)\n",
    "    }\n",
    "#For example, the first row shows how out[1,1] shows how element 'target' is similar to element 'lo'\n",
    "#The following data frame \"A\" has 4 rows and 4 features. We select target row b to compare against rows c,d lo=c\n",
    "#\n",
    "# >> cosingle(A,2,3,4)\n",
    "#\n",
    "# >>\n",
    "#       \"A\"          \"out\"\n",
    "#   f1 f2 f3 f4       \n",
    "#   -----------      ----\n",
    "# a| 2 -1  5  2    c| .5 \n",
    "# b| 2  3  2  1 -> d|  1 \n",
    "# c| 1  1  1  1    \n",
    "# d| 2  3  2  1\n",
    "\n",
    "\n",
    "### Scratch Work ###\n",
    "\n",
    "#Backup Cosine Similarity\n",
    "#r1 = as.matrix(X[50,-1]) #Get all columns -column1\n",
    "#r2 = as.matrix(X[40545,-1])\n",
    "#cosim = r1%*%t(r2) / (norm(r1, type=\"2\") * norm(r2, type=\"2\"))\n",
    "#cosim\n",
    "\n",
    "#Test Triangular Matrix Formula\n",
    "#a = matrix(c(1,1,1,1,1,1),6,6)\n",
    "#a\n",
    "#out = matrix(NA,nrow=(5-2)+1,ncol=(5-2)+1)\n",
    "#out\n",
    "#for (i in 2:5)\n",
    "#    {\n",
    "#    for (j in i:5)\n",
    "#        {\n",
    "#        ix = i-2 + 1\n",
    "#        jx = j-2 + 1\n",
    "#        out[ix,jx] = a[i,j]*(i+j)\n",
    "#        }\n",
    "#    }\n",
    "#out\n",
    "\n",
    "#Code from stack exchange to make the similarity matrix. I couldn't get it to agree with expand.grid\n",
    "#https://stats.stackexchange.com/questions/31565/is-there-an-r-function-that-will-compute-the-cosine-dissimilarity-matrix\n",
    "#cos.sim <- function(ix) \n",
    "#{\n",
    "#    A = X[ix[1],]\n",
    "#    B = X[ix[2],]\n",
    "#    return( sum(A*B)/sqrt(sum(A^2)*sum(B^2)) )\n",
    "#}\n",
    "#n <- nrow(X)/(10^3)\n",
    "#n\n",
    "#cmb <- expand.grid(i=1:n, j=1:n) \n",
    "#C <- matrix(apply(cmb,1,cos.sim),n,n)"
   ]
  },
  {
   "cell_type": "markdown",
   "metadata": {},
   "source": [
    "### Visualize a cosine similarity matrix"
   ]
  },
  {
   "cell_type": "code",
   "execution_count": 8,
   "metadata": {},
   "outputs": [],
   "source": [
    "#Compute Cosine Similarity Matrix\n",
    "#Alec's computer handles 200 cross-comparisons in 5 minutes\n",
    "Xheat = cosim(Xn,100,300)"
   ]
  },
  {
   "cell_type": "code",
   "execution_count": 93,
   "metadata": {
    "scrolled": true
   },
   "outputs": [
    {
     "data": {},
     "metadata": {},
     "output_type": "display_data"
    },
    {
     "data": {},
     "metadata": {},
     "output_type": "display_data"
    },
    {
     "data": {
      "image/png": "[encoded data removed]",
      "text/plain": [
       "plot without title"
      ]
     },
     "metadata": {},
     "output_type": "display_data"
    },
    {
     "data": {
      "image/png": "[encoded data removed]",
      "text/plain": [
       "plot without title"
      ]
     },
     "metadata": {},
     "output_type": "display_data"
    }
   ],
   "source": [
    "#Visualize the matrix\n",
    "#https://www.rdocumentation.org/packages/graphics/versions/3.5.0/topics/image\n",
    "levelplot(Xheat) #Levelplot matrix. It visualizes the cosine similarity matrix\n",
    "\n",
    "#Compute cosine similarity vector for only the project in row 200\n",
    "vec200 = cosingle(Xn,200,100,300)\n",
    "#Visualize the vector\n",
    "levelplot(t(vec200)) #Levelplot strip. It shows the band from the matrix that is row 100 to the diagonal and up column 100."
   ]
  },
  {
   "cell_type": "markdown",
   "metadata": {},
   "source": [
    "### Extract Similar Projects"
   ]
  },
  {
   "cell_type": "code",
   "execution_count": 97,
   "metadata": {},
   "outputs": [
    {
     "name": "stdout",
     "output_type": "stream",
     "text": [
      "[1] \"top 3 projects in row 100-300\"\n"
     ]
    },
    {
     "data": {
      "text/html": [
       "<table>\n",
       "<thead><tr><th scope=col>project.id</th><th scope=col>project.grade</th><th scope=col>project.cost</th><th scope=col>school.metro.type</th><th scope=col>school.percent.lunch</th></tr></thead>\n",
       "<tbody>\n",
       "\t<tr><td>21f11abb0106d849dfbef0cc78ef5299</td><td>2                               </td><td>586.75                          </td><td>2                               </td><td>95                              </td></tr>\n",
       "</tbody>\n",
       "</table>\n"
      ],
      "text/latex": [
       "\\begin{tabular}{r|lllll}\n",
       " project.id & project.grade & project.cost & school.metro.type & school.percent.lunch\\\\\n",
       "\\hline\n",
       "\t 21f11abb0106d849dfbef0cc78ef5299 & 2                                & 586.75                           & 2                                & 95                              \\\\\n",
       "\\end{tabular}\n"
      ],
      "text/markdown": [
       "\n",
       "project.id | project.grade | project.cost | school.metro.type | school.percent.lunch | \n",
       "|---|\n",
       "| 21f11abb0106d849dfbef0cc78ef5299 | 2                                | 586.75                           | 2                                | 95                               | \n",
       "\n",
       "\n"
      ],
      "text/plain": [
       "  project.id                       project.grade project.cost school.metro.type\n",
       "1 21f11abb0106d849dfbef0cc78ef5299 2             586.75       2                \n",
       "  school.percent.lunch\n",
       "1 95                  "
      ]
     },
     "metadata": {},
     "output_type": "display_data"
    },
    {
     "data": {
      "text/html": [
       "<table>\n",
       "<thead><tr><th scope=col>project.id</th><th scope=col>project.grade</th><th scope=col>project.cost</th><th scope=col>school.metro.type</th><th scope=col>school.percent.lunch</th></tr></thead>\n",
       "<tbody>\n",
       "\t<tr><td>9fc8cc15f76c08775066cf154cfe2794</td><td>2                               </td><td>525.84                          </td><td>2                               </td><td>95                              </td></tr>\n",
       "</tbody>\n",
       "</table>\n"
      ],
      "text/latex": [
       "\\begin{tabular}{r|lllll}\n",
       " project.id & project.grade & project.cost & school.metro.type & school.percent.lunch\\\\\n",
       "\\hline\n",
       "\t 9fc8cc15f76c08775066cf154cfe2794 & 2                                & 525.84                           & 2                                & 95                              \\\\\n",
       "\\end{tabular}\n"
      ],
      "text/markdown": [
       "\n",
       "project.id | project.grade | project.cost | school.metro.type | school.percent.lunch | \n",
       "|---|\n",
       "| 9fc8cc15f76c08775066cf154cfe2794 | 2                                | 525.84                           | 2                                | 95                               | \n",
       "\n",
       "\n"
      ],
      "text/plain": [
       "  project.id                       project.grade project.cost school.metro.type\n",
       "1 9fc8cc15f76c08775066cf154cfe2794 2             525.84       2                \n",
       "  school.percent.lunch\n",
       "1 95                  "
      ]
     },
     "metadata": {},
     "output_type": "display_data"
    },
    {
     "data": {
      "text/html": [
       "<table>\n",
       "<thead><tr><th scope=col>project.id</th><th scope=col>project.grade</th><th scope=col>project.cost</th><th scope=col>school.metro.type</th><th scope=col>school.percent.lunch</th></tr></thead>\n",
       "<tbody>\n",
       "\t<tr><td>ae2ca11970e71d0403a639010292933a</td><td>2                               </td><td>492.94                          </td><td>2                               </td><td>95                              </td></tr>\n",
       "</tbody>\n",
       "</table>\n"
      ],
      "text/latex": [
       "\\begin{tabular}{r|lllll}\n",
       " project.id & project.grade & project.cost & school.metro.type & school.percent.lunch\\\\\n",
       "\\hline\n",
       "\t ae2ca11970e71d0403a639010292933a & 2                                & 492.94                           & 2                                & 95                              \\\\\n",
       "\\end{tabular}\n"
      ],
      "text/markdown": [
       "\n",
       "project.id | project.grade | project.cost | school.metro.type | school.percent.lunch | \n",
       "|---|\n",
       "| ae2ca11970e71d0403a639010292933a | 2                                | 492.94                           | 2                                | 95                               | \n",
       "\n",
       "\n"
      ],
      "text/plain": [
       "  project.id                       project.grade project.cost school.metro.type\n",
       "1 ae2ca11970e71d0403a639010292933a 2             492.94       2                \n",
       "  school.percent.lunch\n",
       "1 95                  "
      ]
     },
     "metadata": {},
     "output_type": "display_data"
    },
    {
     "name": "stdout",
     "output_type": "stream",
     "text": [
      "[1] \"that are similar to target project in row 200\"\n"
     ]
    },
    {
     "data": {
      "text/html": [
       "<table>\n",
       "<thead><tr><th scope=col>project.id</th><th scope=col>project.grade</th><th scope=col>project.cost</th><th scope=col>school.metro.type</th><th scope=col>school.percent.lunch</th></tr></thead>\n",
       "<tbody>\n",
       "\t<tr><td>b289a99d90052f71d543ff80d6b6a737</td><td>2                               </td><td>690.56                          </td><td>2                               </td><td>95                              </td></tr>\n",
       "</tbody>\n",
       "</table>\n"
      ],
      "text/latex": [
       "\\begin{tabular}{r|lllll}\n",
       " project.id & project.grade & project.cost & school.metro.type & school.percent.lunch\\\\\n",
       "\\hline\n",
       "\t b289a99d90052f71d543ff80d6b6a737 & 2                                & 690.56                           & 2                                & 95                              \\\\\n",
       "\\end{tabular}\n"
      ],
      "text/markdown": [
       "\n",
       "project.id | project.grade | project.cost | school.metro.type | school.percent.lunch | \n",
       "|---|\n",
       "| b289a99d90052f71d543ff80d6b6a737 | 2                                | 690.56                           | 2                                | 95                               | \n",
       "\n",
       "\n"
      ],
      "text/plain": [
       "  project.id                       project.grade project.cost school.metro.type\n",
       "1 b289a99d90052f71d543ff80d6b6a737 2             690.56       2                \n",
       "  school.percent.lunch\n",
       "1 95                  "
      ]
     },
     "metadata": {},
     "output_type": "display_data"
    }
   ],
   "source": [
    "#Find the indices of top 3 similar projects in our similarity vector\n",
    "#https://stackoverflow.com/questions/5569038/fastest-way-to-find-the-index-of-the-second-third-highest-lowest-value-in\n",
    "n = length(unique(vec200))\n",
    "t1 = which(vec200 == sort(unique(vec200),partial=n-1)[n-1])\n",
    "t2 = which(vec200 == sort(unique(vec200),partial=n-1)[n-2])\n",
    "t3 = which(vec200 == sort(unique(vec200),partial=n-1)[n-3])\n",
    "\n",
    "#Find the corresponding indices in our dataset\n",
    "xt1 = t1+100 #the 1st index in simvec200 corresponded to the 100th index in Xn\n",
    "xt2 = t2+100\n",
    "xt3 = t3+100\n",
    "\n",
    "#Show those top 3 most similar projects\n",
    "print(\"top 3 projects in row 100-300\")\n",
    "head(X[xt1,])\n",
    "head(X[xt2,])\n",
    "head(X[xt3,])\n",
    "print(\"that are similar to target project in row 200\")\n",
    "head((X[200,]))\n",
    "\n",
    "#length(single)\n",
    "#head(sort(single, decreasing=TRUE), 10)\n",
    "#single[t1]\n",
    "#single[t2]\n",
    "#single[t3]"
   ]
  },
  {
   "cell_type": "code",
   "execution_count": null,
   "metadata": {},
   "outputs": [],
   "source": []
  }
 ],
 "metadata": {
  "kernelspec": {
   "display_name": "R",
   "language": "R",
   "name": "ir"
  },
  "language_info": {
   "codemirror_mode": "r",
   "file_extension": ".r",
   "mimetype": "text/x-r-source",
   "name": "R",
   "pygments_lexer": "r",
   "version": "3.4.3"
  }
 },
 "nbformat": 4,
 "nbformat_minor": 2
}
