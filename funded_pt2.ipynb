{
 "cells": [
  {
   "cell_type": "code",
   "execution_count": 1,
   "metadata": {},
   "outputs": [],
   "source": [
    "import pandas as pd\n",
    "import numpy as np\n",
    "import scipy.stats as st\n",
    "import seaborn as sns\n",
    "import matplotlib.pyplot as plt"
   ]
  },
  {
   "cell_type": "markdown",
   "metadata": {},
   "source": [
    "## Objectives\n",
    "\n",
    "First, we wish to determine when a project is to be deemed \"unsuitable\" for email marketing based on its performance. We define \"unsuitable\" as a less than chance probability of a project getting fully funded given its rate of funding. \n",
    "\n",
    "Next, we examine progress indicators of potentially successful projects. We do this "
   ]
  },
  {
   "cell_type": "code",
   "execution_count": 2,
   "metadata": {},
   "outputs": [],
   "source": [
    "donations_dat = pd.read_csv('data/data_clean/donations_clean.csv')\n",
    "projects_notext_dat = pd.read_csv('data/data_clean/projects_num_clean.csv').sample(50000)"
   ]
  },
  {
   "cell_type": "code",
   "execution_count": 3,
   "metadata": {},
   "outputs": [],
   "source": [
    "merged_proj_dona = projects_notext_dat.merge(donations_dat, on='project_id')"
   ]
  },
  {
   "cell_type": "code",
   "execution_count": 4,
   "metadata": {},
   "outputs": [],
   "source": [
    "def days(date, posted):\n",
    "    return (date - posted) / (60*60*24) # days\n",
    "\n",
    "merged_proj_dona['delta'] = days(merged_proj_dona['date'].values, merged_proj_dona['posted'])\n",
    "merged_proj_dona = merged_proj_dona[merged_proj_dona['status'] < 2]"
   ]
  },
  {
   "cell_type": "code",
   "execution_count": 5,
   "metadata": {},
   "outputs": [
    {
     "data": {
      "text/html": [
       "<div>\n",
       "<style scoped>\n",
       "    .dataframe tbody tr th:only-of-type {\n",
       "        vertical-align: middle;\n",
       "    }\n",
       "\n",
       "    .dataframe tbody tr th {\n",
       "        vertical-align: top;\n",
       "    }\n",
       "\n",
       "    .dataframe thead th {\n",
       "        text-align: right;\n",
       "    }\n",
       "</style>\n",
       "<table border=\"1\" class=\"dataframe\">\n",
       "  <thead>\n",
       "    <tr style=\"text-align: right;\">\n",
       "      <th></th>\n",
       "      <th>project_id</th>\n",
       "      <th>cost</th>\n",
       "      <th>status</th>\n",
       "      <th>amount</th>\n",
       "      <th>delta</th>\n",
       "    </tr>\n",
       "  </thead>\n",
       "  <tbody>\n",
       "    <tr>\n",
       "      <th>0</th>\n",
       "      <td>991720672d598a885e5131a4cdab9fd9</td>\n",
       "      <td>335.26</td>\n",
       "      <td>1</td>\n",
       "      <td>99.00</td>\n",
       "      <td>3.944803</td>\n",
       "    </tr>\n",
       "    <tr>\n",
       "      <th>1</th>\n",
       "      <td>991720672d598a885e5131a4cdab9fd9</td>\n",
       "      <td>335.26</td>\n",
       "      <td>1</td>\n",
       "      <td>5.00</td>\n",
       "      <td>18.445683</td>\n",
       "    </tr>\n",
       "    <tr>\n",
       "      <th>2</th>\n",
       "      <td>991720672d598a885e5131a4cdab9fd9</td>\n",
       "      <td>335.26</td>\n",
       "      <td>1</td>\n",
       "      <td>25.00</td>\n",
       "      <td>4.525463</td>\n",
       "    </tr>\n",
       "    <tr>\n",
       "      <th>3</th>\n",
       "      <td>991720672d598a885e5131a4cdab9fd9</td>\n",
       "      <td>335.26</td>\n",
       "      <td>1</td>\n",
       "      <td>50.00</td>\n",
       "      <td>17.947905</td>\n",
       "    </tr>\n",
       "    <tr>\n",
       "      <th>4</th>\n",
       "      <td>991720672d598a885e5131a4cdab9fd9</td>\n",
       "      <td>335.26</td>\n",
       "      <td>1</td>\n",
       "      <td>32.26</td>\n",
       "      <td>18.630984</td>\n",
       "    </tr>\n",
       "    <tr>\n",
       "      <th>5</th>\n",
       "      <td>144dab84f1e5c8213738e4f40e64e1d1</td>\n",
       "      <td>173.81</td>\n",
       "      <td>1</td>\n",
       "      <td>74.40</td>\n",
       "      <td>121.710150</td>\n",
       "    </tr>\n",
       "    <tr>\n",
       "      <th>6</th>\n",
       "      <td>144dab84f1e5c8213738e4f40e64e1d1</td>\n",
       "      <td>173.81</td>\n",
       "      <td>1</td>\n",
       "      <td>25.00</td>\n",
       "      <td>49.944630</td>\n",
       "    </tr>\n",
       "    <tr>\n",
       "      <th>7</th>\n",
       "      <td>393e89b2fa927af6dbe846fe5e6bf678</td>\n",
       "      <td>673.98</td>\n",
       "      <td>1</td>\n",
       "      <td>25.00</td>\n",
       "      <td>8.977975</td>\n",
       "    </tr>\n",
       "    <tr>\n",
       "      <th>8</th>\n",
       "      <td>5ec88f8e2dccabb557023cc168d0f7e0</td>\n",
       "      <td>262.56</td>\n",
       "      <td>1</td>\n",
       "      <td>131.28</td>\n",
       "      <td>7.609525</td>\n",
       "    </tr>\n",
       "    <tr>\n",
       "      <th>9</th>\n",
       "      <td>19574c2230e83042b1a7cccb1f3a6b43</td>\n",
       "      <td>474.73</td>\n",
       "      <td>1</td>\n",
       "      <td>474.73</td>\n",
       "      <td>17.942002</td>\n",
       "    </tr>\n",
       "  </tbody>\n",
       "</table>\n",
       "</div>"
      ],
      "text/plain": [
       "                         project_id    cost  status  amount       delta\n",
       "0  991720672d598a885e5131a4cdab9fd9  335.26       1   99.00    3.944803\n",
       "1  991720672d598a885e5131a4cdab9fd9  335.26       1    5.00   18.445683\n",
       "2  991720672d598a885e5131a4cdab9fd9  335.26       1   25.00    4.525463\n",
       "3  991720672d598a885e5131a4cdab9fd9  335.26       1   50.00   17.947905\n",
       "4  991720672d598a885e5131a4cdab9fd9  335.26       1   32.26   18.630984\n",
       "5  144dab84f1e5c8213738e4f40e64e1d1  173.81       1   74.40  121.710150\n",
       "6  144dab84f1e5c8213738e4f40e64e1d1  173.81       1   25.00   49.944630\n",
       "7  393e89b2fa927af6dbe846fe5e6bf678  673.98       1   25.00    8.977975\n",
       "8  5ec88f8e2dccabb557023cc168d0f7e0  262.56       1  131.28    7.609525\n",
       "9  19574c2230e83042b1a7cccb1f3a6b43  474.73       1  474.73   17.942002"
      ]
     },
     "execution_count": 5,
     "metadata": {},
     "output_type": "execute_result"
    }
   ],
   "source": [
    "simplified_projs = merged_proj_dona[['project_id', 'cost', 'status', 'amount', 'delta']]\n",
    "simplified_projs[:10]"
   ]
  },
  {
   "cell_type": "code",
   "execution_count": null,
   "metadata": {},
   "outputs": [],
   "source": [
    "# projs_grouped = simplified_projs.sort_values(['project_id', 'delta']).groupby('project_id')"
   ]
  },
  {
   "cell_type": "code",
   "execution_count": null,
   "metadata": {},
   "outputs": [],
   "source": [
    "# funding_time = []\n",
    "# for name, group in funded_projs:\n",
    "#     r = group['amount'].values / group['cost'].max()\n",
    "#     funding_time.append([r, group['delta'].values])\n",
    "#     if len(funding_time) % 1000 == 0:\n",
    "#         break\n",
    "        \n",
    "# funding_time = np.array(funding_time)\n",
    "\n",
    "# expiring_time = []\n",
    "# for name, group in expired_projs:\n",
    "#     r = group['amount'].values / group['cost'].max()\n",
    "#     expiring_time.append([r, group['delta'].values])\n",
    "#     if len(expiring_time) % 1000 == 0:\n",
    "#         break\n",
    "        \n",
    "# expiring_time = np.array(expiring_time)"
   ]
  },
  {
   "cell_type": "code",
   "execution_count": null,
   "metadata": {},
   "outputs": [],
   "source": [
    "# plt.xlabel('Days since Project Inception')\n",
    "# plt.ylabel('Portion of Porject Funded')\n",
    "# plt.ylim([0, 1])\n",
    "# for st in funding_time:\n",
    "#     if st[1].min() > 0 and st[1].max() < 120:\n",
    "#         plt.scatter(st[1], st[0], c='g', alpha=0.05)\n",
    "# for st in expiring_time:\n",
    "#     if st[1].min() > 0 and st[1].max() < 120:\n",
    "#         plt.scatter(st[1], st[0], c='r', alpha=0.05)"
   ]
  },
  {
   "cell_type": "markdown",
   "metadata": {},
   "source": [
    "# Probability"
   ]
  },
  {
   "cell_type": "code",
   "execution_count": 8,
   "metadata": {},
   "outputs": [
    {
     "name": "stdout",
     "output_type": "stream",
     "text": [
      "0.0\n",
      "0.04702010109321735\n",
      "0.0940402021864347\n",
      "0.14106030327965205\n",
      "0.1880804043728694\n",
      "0.23510050546608674\n",
      "0.2821206065593041\n",
      "0.32914070765252146\n",
      "0.3761608087457388\n",
      "0.4231809098389562\n",
      "0.4702010109321735\n",
      "0.5172211120253909\n",
      "0.5642412131186082\n",
      "0.6112613142118255\n",
      "0.6582814153050429\n",
      "0.7053015163982602\n",
      "0.7523216174914776\n",
      "0.7993417185846949\n",
      "0.8463618196779124\n",
      "0.8933819207711297\n",
      "0.940402021864347\n",
      "0.9874221229575644\n"
     ]
    }
   ],
   "source": [
    "projs_mat = simplified_projs.as_matrix()\n",
    "\n",
    "def support(matrix):\n",
    "    last_id = ''\n",
    "    curr_cost = 0\n",
    "    curr_cumsum = []\n",
    "\n",
    "    T = len(projs_mat)\n",
    "\n",
    "    p = np.array(projs_mat[:T])\n",
    "    p = p[p[:, 4].argsort()]\n",
    "    p = p[p[:, 0].argsort()[::-1]]\n",
    "\n",
    "    end_df = []\n",
    "    \n",
    "    portions = []\n",
    "    \n",
    "    def search(a, ix):\n",
    "        return a[a[:, 0] == ix]\n",
    "\n",
    "    for i, row in enumerate(p):\n",
    "        if last_id is not row[0]:\n",
    "            cur = search(p, row[0])\n",
    "            if not cur[(cur[:, 4] < 0) | (cur[:, 4] > 120)].any():\n",
    "                curr_cost = cur[0][1]\n",
    "                curr_cumsum = cur[:, 3].cumsum()\n",
    "\n",
    "                end_df.extend(cur)\n",
    "                portions.extend(curr_cumsum / curr_cost)\n",
    "\n",
    "                last_id = row[0]\n",
    "        if i % 10000 == 0:\n",
    "            print(i/T)\n",
    "\n",
    "    a = np.array(end_df)\n",
    "    return pd.DataFrame({'project_id': a[:, 0], 'cost': a[:, 1], \n",
    "                         'status': a[:, 2], 'amount': a[:, 3], 'delta': a[:, 4], 'portion': portions}).astype({'status': np.int})\n",
    "\n",
    "# import cProfile\n",
    "# cProfile.run('support(projs_mat)')\n",
    "filter_proj_delta = support(projs_mat).dropna()"
   ]
  },
  {
   "cell_type": "code",
   "execution_count": 9,
   "metadata": {},
   "outputs": [],
   "source": [
    "delta_bins = np.arange(0, 121, 1)\n",
    "portion_bins = np.arange(0, 1.05, 0.05)\n",
    "\n",
    "filter_proj_delta['delta_bin'] = pd.cut(filter_proj_delta['delta'], delta_bins, labels=False)\n",
    "filter_proj_delta['portion_bin'] = pd.cut(filter_proj_delta['portion'], portion_bins, labels=False)"
   ]
  },
  {
   "cell_type": "code",
   "execution_count": 14,
   "metadata": {},
   "outputs": [],
   "source": [
    "proj_binned = filter_proj_delta.groupby(['delta_bin', 'portion_bin'])\n",
    "\n",
    "proj_matrix = proj_binned['status'].mean().unstack()"
   ]
  },
  {
   "cell_type": "code",
   "execution_count": 24,
   "metadata": {},
   "outputs": [],
   "source": [
    "proj_prob_subset = proj_matrix.transpose()[::-1].copy()\n",
    "\n",
    "quantile = 0.95\n",
    "\n",
    "proj_prob_subset[(proj_prob_subset >= quantile + 0.02) | (proj_prob_subset <= quantile - 0.02)] = np.nan\n",
    "prob_50 = proj_prob_subset.stack()\n",
    "\n",
    "df = prob_50.index.to_frame()\n",
    "prob_50_x = df['delta_bin'].values\n",
    "prob_50_y = 20-df['portion_bin'].values\n",
    "\n",
    "z = np.polyfit(prob_50_x, prob_50_y, 3)\n",
    "polyfit = np.poly1d(z)"
   ]
  },
  {
   "cell_type": "code",
   "execution_count": 27,
   "metadata": {},
   "outputs": [
    {
     "data": {
      "image/png": "[encoded data removed]",
      "text/plain": [
       "<matplotlib.figure.Figure at 0x1a5134ba20>"
      ]
     },
     "metadata": {},
     "output_type": "display_data"
    }
   ],
   "source": [
    "fig, ax = plt.subplots(figsize=(10,6))\n",
    "fig.tight_layout(rect=[0.05,0.2,1,1])\n",
    "\n",
    "sns.heatmap(proj_matrix.transpose()[::-1], vmin=0.0, vmax=1.0)\n",
    "x = np.linspace(0,120,1000)\n",
    "plt.plot(x, polyfit(x), c='w', linewidth=2)\n",
    "\n",
    "plt.xticks(np.arange(0, 120, 7) , np.arange(0, 120, 7).tolist())\n",
    "plt.yticks(np.arange(0, 22, 2) , (np.arange(0, 11, 1) / 10).tolist()[::-1])\n",
    "\n",
    "plt.xlabel('Days Since Project Inception')\n",
    "plt.ylabel('Portion of Project Funded');\n",
    "plt.savefig('probability_of_funded.png')"
   ]
  },
  {
   "cell_type": "markdown",
   "metadata": {},
   "source": [
    "# Rates"
   ]
  },
  {
   "cell_type": "code",
   "execution_count": null,
   "metadata": {},
   "outputs": [],
   "source": [
    "proj_status = merged_proj_dona.groupby('status')\n",
    "funded = proj_status.get_group(1)\n",
    "expired = proj_status.get_group(0)"
   ]
  },
  {
   "cell_type": "code",
   "execution_count": null,
   "metadata": {},
   "outputs": [],
   "source": [
    "funded_projs = funded.sort_values('delta').groupby('project_id')\n",
    "projs_f_l = len(funded_projs)\n",
    "\n",
    "expired_projs = expired.sort_values('delta').groupby('project_id')\n",
    "projs_e_l = len(expired_projs)\n",
    "projs_f_l, projs_e_l"
   ]
  },
  {
   "cell_type": "code",
   "execution_count": null,
   "metadata": {},
   "outputs": [],
   "source": [
    "projs_f_l"
   ]
  },
  {
   "cell_type": "code",
   "execution_count": null,
   "metadata": {},
   "outputs": [],
   "source": [
    "funded_portions = np.zeros(len(b))\n",
    "funded_counts = np.zeros(len(b))\n",
    "\n",
    "c = 0\n",
    "\n",
    "for name, group in funded_projs:\n",
    "    d = group['delta'].values\n",
    "    \n",
    "    if d[(d < 0) | (d >= 119)].any():\n",
    "        continue\n",
    "    \n",
    "    cost = group['cost'].max()\n",
    "    amts = group['amount'].cumsum().values\n",
    "    cut = pd.cut(d, b, labels=False)\n",
    "    \n",
    "    funded_portions[cut] += (amts / cost)\n",
    "    funded_counts[cut] += 1\n",
    "        \n",
    "    c += 1\n",
    "    if c % int(projs_f_l / 2) == 0:\n",
    "        break\n",
    "    \n",
    "funded_x = np.array(funded_portions / funded_counts)\n",
    "\n",
    "nans, x = np.isnan(funded_x), lambda z: z.nonzero()[0]\n",
    "funded_x[nans] = np.interp(x(nans), x(~nans), funded_x[~nans])"
   ]
  },
  {
   "cell_type": "code",
   "execution_count": null,
   "metadata": {},
   "outputs": [],
   "source": [
    "expired_portions = np.zeros(len(b))\n",
    "expired_counts = np.zeros(len(b))\n",
    "\n",
    "c = 0\n",
    "\n",
    "for name, group in expired_projs:\n",
    "    d = group['delta'].values\n",
    "    \n",
    "    if d[(d < 0) | (d >= 119)].any():\n",
    "        continue\n",
    "    \n",
    "    cost = group['cost'].max()\n",
    "    amts = group['amount'].cumsum().values\n",
    "    cut = pd.cut(d, b, labels=False)\n",
    "    \n",
    "    expired_portions[cut] += (amts / cost)\n",
    "    expired_counts[cut] += 1\n",
    "        \n",
    "    c += 1\n",
    "    if c % int(projs_e_l / 2) == 0:\n",
    "        break\n",
    "    \n",
    "expired_x = np.array(expired_portions / expired_counts)\n",
    "\n",
    "nans, x = np.isnan(expired_x), lambda z: z.nonzero()[0]\n",
    "expired_x[nans] = np.interp(x(nans), x(~nans), expired_x[~nans])"
   ]
  },
  {
   "cell_type": "code",
   "execution_count": null,
   "metadata": {},
   "outputs": [],
   "source": [
    "plt.subplots(figsize=(16,5))\n",
    "plt.axhline(0.5, linestyle=':', alpha=0.9)\n",
    "\n",
    "# Funded\n",
    "\n",
    "plt.scatter(b, funded_x, c='k', s=6, alpha=0.8)\n",
    "funded_smooth = savitzky_golay(funded_x, 31, 3)\n",
    "plt.plot(b, funded_smooth, linestyle='-.', c='g', alpha=0.8)\n",
    "\n",
    "cross = np.argwhere(funded_smooth > 0.5).min()\n",
    "plt.axvline(cross, linestyle=':', alpha=0.9)\n",
    "plt.axvline(1, linestyle=':', alpha=0.9)\n",
    "plt.axvline(7, linestyle=':', alpha=0.9)\n",
    "plt.axvline(30, linestyle=':', alpha=0.9)\n",
    "\n",
    "# Expired\n",
    "\n",
    "plt.scatter(b, expired_x, c='k', s=6, alpha=0.8)\n",
    "expired_smooth = savitzky_golay(expired_x, 31, 3)\n",
    "plt.plot(b, expired_smooth, linestyle='-.', c='r', alpha=0.8)\n",
    "\n",
    "# cross = np.argwhere(expired_smooth > 0.5).min()\n",
    "# plt.axvline(cross, linestyle=':', alpha=0.9)\n",
    "\n",
    "plt.ylim([-0.1,1.1]);\n",
    "plt.xlabel('Days since Project Inception')\n",
    "plt.ylabel('Portion of Project Funded');\n",
    "# plt.xticks(np.arange(0, 14, 7));"
   ]
  },
  {
   "cell_type": "code",
   "execution_count": null,
   "metadata": {},
   "outputs": [],
   "source": [
    "sns.distplot(funded_x)\n",
    "sns.distplot(expired_x)"
   ]
  },
  {
   "cell_type": "code",
   "execution_count": null,
   "metadata": {},
   "outputs": [],
   "source": [
    "def savitzky_golay(y, window_size, order, deriv=0, rate=1):\n",
    "    r\"\"\"Smooth (and optionally differentiate) data with a Savitzky-Golay filter.\n",
    "    The Savitzky-Golay filter removes high frequency noise from data.\n",
    "    It has the advantage of preserving the original shape and\n",
    "    features of the signal better than other types of filtering\n",
    "    approaches, such as moving averages techniques.\n",
    "    Parameters\n",
    "    ----------\n",
    "    y : array_like, shape (N,)\n",
    "        the values of the time history of the signal.\n",
    "    window_size : int\n",
    "        the length of the window. Must be an odd integer number.\n",
    "    order : int\n",
    "        the order of the polynomial used in the filtering.\n",
    "        Must be less then `window_size` - 1.\n",
    "    deriv: int\n",
    "        the order of the derivative to compute (default = 0 means only smoothing)\n",
    "    Returns\n",
    "    -------\n",
    "    ys : ndarray, shape (N)\n",
    "        the smoothed signal (or it's n-th derivative).\n",
    "    Notes\n",
    "    -----\n",
    "    The Savitzky-Golay is a type of low-pass filter, particularly\n",
    "    suited for smoothing noisy data. The main idea behind this\n",
    "    approach is to make for each point a least-square fit with a\n",
    "    polynomial of high order over a odd-sized window centered at\n",
    "    the point.\n",
    "    Examples\n",
    "    --------\n",
    "    t = np.linspace(-4, 4, 500)\n",
    "    y = np.exp( -t**2 ) + np.random.normal(0, 0.05, t.shape)\n",
    "    ysg = savitzky_golay(y, window_size=31, order=4)\n",
    "    import matplotlib.pyplot as plt\n",
    "    plt.plot(t, y, label='Noisy signal')\n",
    "    plt.plot(t, np.exp(-t**2), 'k', lw=1.5, label='Original signal')\n",
    "    plt.plot(t, ysg, 'r', label='Filtered signal')\n",
    "    plt.legend()\n",
    "    plt.show()\n",
    "    References\n",
    "    ----------\n",
    "    .. [1] A. Savitzky, M. J. E. Golay, Smoothing and Differentiation of\n",
    "       Data by Simplified Least Squares Procedures. Analytical\n",
    "       Chemistry, 1964, 36 (8), pp 1627-1639.\n",
    "    .. [2] Numerical Recipes 3rd Edition: The Art of Scientific Computing\n",
    "       W.H. Press, S.A. Teukolsky, W.T. Vetterling, B.P. Flannery\n",
    "       Cambridge University Press ISBN-13: 9780521880688\n",
    "    \"\"\"\n",
    "    from math import factorial\n",
    "    \n",
    "    try:\n",
    "        window_size = np.abs(np.int(window_size))\n",
    "        order = np.abs(np.int(order))\n",
    "    except ValueError:\n",
    "        raise ValueError(\"window_size and order have to be of type int\")\n",
    "    \n",
    "    if window_size % 2 != 1 or window_size < 1:\n",
    "        raise TypeError(\"window_size size must be a positive odd number\")\n",
    "    if window_size < order + 2:\n",
    "        raise TypeError(\"window_size is too small for the polynomials order\")\n",
    "    \n",
    "    order_range = range(order+1)\n",
    "    half_window = (window_size -1) // 2\n",
    "    # precompute coefficients\n",
    "    b = np.mat([[k**i for i in order_range] for k in range(-half_window, half_window+1)])\n",
    "    m = np.linalg.pinv(b).A[deriv] * rate**deriv * factorial(deriv)\n",
    "    # pad the signal at the extremes with\n",
    "    # values taken from the signal itself\n",
    "    firstvals = y[0] - np.abs( y[1:half_window+1][::-1] - y[0] )\n",
    "    lastvals = y[-1] + np.abs(y[-half_window-1:-1][::-1] - y[-1])\n",
    "    y = np.concatenate((firstvals, y, lastvals))\n",
    "    return np.convolve( m[::-1], y, mode='valid')"
   ]
  },
  {
   "cell_type": "code",
   "execution_count": null,
   "metadata": {},
   "outputs": [],
   "source": [
    "arr = (np.random.rand(15, 5) * 10).astype(int)"
   ]
  },
  {
   "cell_type": "code",
   "execution_count": null,
   "metadata": {},
   "outputs": [],
   "source": [
    "f = []\n",
    "h = []\n",
    "for r in arr:\n",
    "    f.extend(r[3:])\n",
    "    h.extend(r[0:2])\n",
    "\n",
    "    \n",
    "f = np.array(f).reshape(len(f), 1)\n",
    "h = np.array(h).reshape(len(h), 1)"
   ]
  },
  {
   "cell_type": "code",
   "execution_count": null,
   "metadata": {},
   "outputs": [],
   "source": [
    "print(f.shape, h.shape)\n",
    "np.concatenate((f, h), axis=1)"
   ]
  },
  {
   "cell_type": "code",
   "execution_count": null,
   "metadata": {},
   "outputs": [],
   "source": []
  }
 ],
 "metadata": {
  "kernelspec": {
   "display_name": "Python 3",
   "language": "python",
   "name": "python3"
  },
  "language_info": {
   "codemirror_mode": {
    "name": "ipython",
    "version": 3
   },
   "file_extension": ".py",
   "mimetype": "text/x-python",
   "name": "python",
   "nbconvert_exporter": "python",
   "pygments_lexer": "ipython3",
   "version": "3.6.3"
  }
 },
 "nbformat": 4,
 "nbformat_minor": 2
}
