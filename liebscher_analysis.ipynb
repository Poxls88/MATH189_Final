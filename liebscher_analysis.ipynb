{
 "cells": [
  {
   "cell_type": "markdown",
   "metadata": {},
   "source": [
    "Load all the necessary libraries:"
   ]
  },
  {
   "cell_type": "code",
   "execution_count": 1,
   "metadata": {},
   "outputs": [],
   "source": [
    "import pandas as pd\n",
    "from pandas import Timestamp\n",
    "import numpy as np\n",
    "import scipy.stats as st\n",
    "import seaborn as sns\n",
    "import matplotlib.pyplot as plt"
   ]
  },
  {
   "cell_type": "markdown",
   "metadata": {},
   "source": [
    "# Load Data"
   ]
  },
  {
   "cell_type": "markdown",
   "metadata": {},
   "source": [
    "Start off by defining some conversion functions. Each is designed to reduce the file size a bit by converting text data into only a few bits worth of numerical data.\n",
    "\n",
    "The the data being loaded is straight from Kaggle (except the Projects.csv set, which had to be treated separately due to it's size). If you are working with files ending with `_clean` these steps are irrelevant beyond discovering how the cleaned files were created."
   ]
  },
  {
   "cell_type": "code",
   "execution_count": null,
   "metadata": {},
   "outputs": [],
   "source": [
    "# If the value is \"Yes\", convert to a 1. Otherwise, 0 (i.e \"No\")\n",
    "\n",
    "def yes_no_binary_converter(x):\n",
    "    return 1 if x == \"Yes\" else 0\n",
    "\n",
    "def zipcode_converter(x):\n",
    "    try:\n",
    "        return int(x)\n",
    "    except ValueError:\n",
    "        return np.nan\n",
    "\n",
    "# For Schools.csv\n",
    "def metro_type_converter(x):\n",
    "    if x == 'rural':\n",
    "        return 1\n",
    "    if x == 'suburban':\n",
    "        return 2\n",
    "    if x == 'urban':\n",
    "        return 3\n",
    "    if x == 'town':\n",
    "        return 4\n",
    "    \n",
    "    return 0 # if metropolitan type is ambiguous\n",
    "\n",
    "# For Teachers.csv\n",
    "def teacher_prefix_converter(x):\n",
    "    if x == 'Mrs.':\n",
    "        return 1\n",
    "    if x == 'Mr.':\n",
    "        return 2\n",
    "    \n",
    "    return 0 # if prefix is ambiguous\n",
    "\n",
    "# For Projects.csv\n",
    "def grade_level_converter(x):\n",
    "    if '2' in x:\n",
    "        return 1\n",
    "    if '3' in x:\n",
    "        return 2\n",
    "    if '6' in x:\n",
    "        return 3\n",
    "    if '9' in x:\n",
    "        return 4\n",
    "        \n",
    "    return -1 # if grade is unknown/missing\n",
    "\n",
    "# For Projects.csv\n",
    "def project_type_converter(x):\n",
    "    if x == 'Professional Development':\n",
    "        return 0\n",
    "    if x == 'Student-Led':\n",
    "        return 1\n",
    "    if x == 'Teacher-Led':\n",
    "        return 2\n",
    "    \n",
    "# For Projects.csv\n",
    "def project_status_converter(x):\n",
    "    if x == 'Expired':\n",
    "        return 0\n",
    "    if x == 'Fully Funded':\n",
    "        return 1\n",
    "    if x == 'Live':\n",
    "        return 2"
   ]
  },
  {
   "cell_type": "markdown",
   "metadata": {},
   "source": [
    "Load *Donors.csv*. Modify headers to exclude spaces. Binary conversion for whether the donor is a teacher. Ensure zip code is of integer type. Clean state column by ensuring that unmarked states are corrected based on city and zip information with a 95% confidence level"
   ]
  },
  {
   "cell_type": "code",
   "execution_count": null,
   "metadata": {},
   "outputs": [],
   "source": [
    "donors_dat = pd.read_csv('data/Donors.csv',\n",
    "                         header=0,\n",
    "                         names=['donor_id', 'donor_city', 'donor_state', 'donor_teacher', 'donor_zip'],\n",
    "                         na_values='other',\n",
    "                         converters={'donor_zip': zipcode_converter, 'donor_teacher': yes_no_binary_converter})"
   ]
  },
  {
   "cell_type": "code",
   "execution_count": null,
   "metadata": {},
   "outputs": [],
   "source": [
    "donors_dat.to_csv('data/data_clean/donors_clean.csv')"
   ]
  },
  {
   "cell_type": "code",
   "execution_count": null,
   "metadata": {},
   "outputs": [],
   "source": [
    "# donor_state_null = donors_dat[(donors_dat['donor_state'].isnull()) & (donors_dat['donor_city'].notnull()) & (donors_dat['donor_zip'].notnull())]"
   ]
  },
  {
   "cell_type": "code",
   "execution_count": null,
   "metadata": {},
   "outputs": [],
   "source": [
    "# replacements = []\n",
    "\n",
    "# unique_donor_locals = donor_state_null.drop_duplicates(['donor_city', 'donor_zip'])\n",
    "\n",
    "# c = 0\n",
    "# l = len(unique_donor_locals)\n",
    "# from datetime import datetime\n",
    "# s = datetime.now()\n",
    "\n",
    "# for row in unique_donor_locals.itertuples():\n",
    "#     donor_augment = donors_dat[(donors_dat['donor_city'] == row.donor_city) & (donors_dat['donor_zip'] == row.donor_zip) & \n",
    "#               (donors_dat['donor_state'].notnull())]\n",
    "#     if len(donor_augment) > 1:\n",
    "#         top_approxs, top_approxs_cnt = np.unique(donor_augment['donor_state'], return_counts=True)\n",
    "#         m = top_approxs_cnt.argmax()\n",
    "#         if max(top_approxs_cnt) / sum(top_approxs_cnt) > 0.95:\n",
    "#             replacements.append([row.donor_id, top_approxs[m]])\n",
    "#     c += 1\n",
    "#     if c % 50 == 0:\n",
    "#         print('{:.1f}%...\\t Remaining: {}'.format(c/l, (datetime.now() - s)/c))\n",
    "#         break\n",
    "        \n",
    "# replacements"
   ]
  },
  {
   "cell_type": "markdown",
   "metadata": {},
   "source": [
    "Load *Donations.csv*. Modify headers to exclude spaces. Binary conversion for whether the donation included an optional donation. Ensure timestamps are converted to integers (for easy computation of timedeltas and reverse-conversion)."
   ]
  },
  {
   "cell_type": "code",
   "execution_count": null,
   "metadata": {},
   "outputs": [],
   "source": [
    "donations_dat = pd.read_csv('data/Donations.csv',\n",
    "                         header=0,\n",
    "                         names=['project_id', 'donation_id', 'donor_id', 'opt_donation', 'amount', 'cart_seq', 'date'],\n",
    "                         converters={'opt_donation': yes_no_binary_converter},\n",
    "                         parse_dates=['date'])\n",
    "\n",
    "donations_dat['date'] = donations_dat['date'].apply(lambda t: int(t.timestamp()))\n",
    "donations_dat.sample(5) # randomly sample 5"
   ]
  },
  {
   "cell_type": "markdown",
   "metadata": {},
   "source": [
    "Load *Schools.csv*. Modify headers to exclude spaces. Conversion of metro type to numerical."
   ]
  },
  {
   "cell_type": "code",
   "execution_count": null,
   "metadata": {},
   "outputs": [],
   "source": [
    "schools_dat = pd.read_csv('data/Schools.csv',\n",
    "                         header=0,\n",
    "                         names=['school_id', 'school_name', 'metro_type', 'free_lunch', 'school_state', 'school_zip', 'school_city', 'school_county', 'school_district'],\n",
    "                         converters={'metro_type': metro_type_converter})\n",
    "schools_dat.sample(5) # randomly sample 5"
   ]
  },
  {
   "cell_type": "markdown",
   "metadata": {},
   "source": [
    "Load *Teachers.csv*. Modify headers to exclude spaces. Conversion of teacher prefix to numerical. Dates to integer (see above)."
   ]
  },
  {
   "cell_type": "code",
   "execution_count": null,
   "metadata": {},
   "outputs": [],
   "source": [
    "teachers_dat = pd.read_csv('data/Teachers.csv',\n",
    "                           header=0,\n",
    "                           names=['teacher_id', 'prefix', 'first_project_posted'],\n",
    "                           parse_dates=['first_project_posted'],\n",
    "                           converters={'prefix': teacher_prefix_converter})\n",
    "\n",
    "teachers_dat['first_project_posted'] = teachers_dat['first_project_posted'].apply(lambda t: int(t.timestamp()))\n",
    "teachers_dat.sample(5) # randomly sample 5"
   ]
  },
  {
   "cell_type": "markdown",
   "metadata": {},
   "source": [
    "Load *Resources.csv*. Modify headers to exclude spaces. Remove any rows without `quantity` or `price`, two key variables of the dataset."
   ]
  },
  {
   "cell_type": "code",
   "execution_count": null,
   "metadata": {},
   "outputs": [],
   "source": [
    "resources_dat = pd.read_csv('data/Resources.csv',\n",
    "                           header=0,\n",
    "                           names=['project_id', 'resource', 'quantity', 'price', 'vendor'])\n",
    "\n",
    "resources_dat = resources_dat.dropna(axis=0, subset=['quantity', 'price'])\n",
    "resources_dat.sample(5) # randomly sample 5"
   ]
  },
  {
   "cell_type": "markdown",
   "metadata": {},
   "source": [
    "Load two partitions of *Projects.csv* (previously split, code not included here). Conversion of text to integer (see above). Date values either remain null or are converted to integer (see above)."
   ]
  },
  {
   "cell_type": "code",
   "execution_count": null,
   "metadata": {},
   "outputs": [],
   "source": [
    "# LARGE FILE!\n",
    "projects_textonly_dat = pd.read_csv('data/Projects_textonly.csv', index_col=0)\n",
    "projects_textonly_dat.sample(5) # randomly sample 5"
   ]
  },
  {
   "cell_type": "code",
   "execution_count": null,
   "metadata": {},
   "outputs": [],
   "source": [
    "# LARGE FILE!\n",
    "projects_notext_dat = pd.read_csv('data/Projects_notext.csv', parse_dates=['posted', 'expire', 'funded'],\n",
    "                                 converters={'proj_type': project_type_converter,\n",
    "                                             'grade_level': grade_level_converter,\n",
    "                                             'status': project_status_converter})\n",
    "\n",
    "projects_notext_dat['posted'] = projects_notext_dat['posted'].apply(lambda t: np.nan if pd.isnull(t) else int(t.timestamp()))\n",
    "projects_notext_dat['expire'] = projects_notext_dat['expire'].apply(lambda t: np.nan if pd.isnull(t) else int(t.timestamp()))\n",
    "projects_notext_dat['funded'] = projects_notext_dat['funded'].apply(lambda t: np.nan if pd.isnull(t) else int(t.timestamp()))\n",
    "projects_notext_dat.sample(5) # randomly sample 5"
   ]
  },
  {
   "cell_type": "markdown",
   "metadata": {},
   "source": [
    "# Reload"
   ]
  },
  {
   "cell_type": "code",
   "execution_count": 2,
   "metadata": {},
   "outputs": [],
   "source": [
    "donors_dat = pd.read_csv('data/data_clean/donors_clean.csv')\n",
    "donations_dat = pd.read_csv('data/data_clean/donations_clean.csv')\n",
    "schools_dat = pd.read_csv('data/data_clean/schools_clean.csv')\n",
    "teachers_dat = pd.read_csv('data/data_clean/teachers_clean.csv')\n",
    "resources_dat = pd.read_csv('data/data_clean/resources_clean.csv')\n",
    "projects_notext_dat = pd.read_csv('data/data_clean/projects_num_clean.csv')"
   ]
  },
  {
   "cell_type": "markdown",
   "metadata": {},
   "source": [
    "# Dataset Subsetting\n",
    "\n",
    "From the last year of donation data: 9 May 2017 - 9 May 2018\n",
    "\n",
    "Format: `(% of original dataset, # of total entries)`"
   ]
  },
  {
   "cell_type": "code",
   "execution_count": 3,
   "metadata": {},
   "outputs": [],
   "source": [
    "last_years_donations = Timestamp(donations_dat['date'].max(), unit='s') - pd.DateOffset(years=1)\n",
    "\n",
    "#timestamp (sec) of one year prior to most recent donation\n",
    "last_years_donations_sec = int(last_years_donations.timestamp()) "
   ]
  },
  {
   "cell_type": "code",
   "execution_count": 4,
   "metadata": {},
   "outputs": [
    {
     "data": {
      "text/plain": [
       "(0.2662655475263466, 1248222)"
      ]
     },
     "execution_count": 4,
     "metadata": {},
     "output_type": "execute_result"
    }
   ],
   "source": [
    "donations_subset = donations_dat[donations_dat['date'] > last_years_donations_sec]\n",
    "unique_donations_subset = donations_subset.drop_duplicates('donor_id')\n",
    "len(donations_subset) / len(donations_dat), len(donations_subset)"
   ]
  },
  {
   "cell_type": "code",
   "execution_count": 5,
   "metadata": {},
   "outputs": [
    {
     "data": {
      "text/plain": [
       "(0.2764618588173218, 586829)"
      ]
     },
     "execution_count": 5,
     "metadata": {},
     "output_type": "execute_result"
    }
   ],
   "source": [
    "donors_subset = donors_dat[donors_dat['donor_id'].isin(unique_donations_subset['donor_id'])]\n",
    "len(donors_subset) / len(donors_dat), len(donors_subset)"
   ]
  },
  {
   "cell_type": "code",
   "execution_count": 6,
   "metadata": {},
   "outputs": [
    {
     "data": {
      "text/plain": [
       "(0.2117445104069809, 222030)"
      ]
     },
     "execution_count": 6,
     "metadata": {},
     "output_type": "execute_result"
    }
   ],
   "source": [
    "projects_subset = projects_notext_dat[projects_notext_dat['project_id'].isin(donations_subset['project_id'])]\n",
    "len(projects_subset) / len(projects_notext_dat), len(projects_subset)"
   ]
  },
  {
   "cell_type": "code",
   "execution_count": 7,
   "metadata": {},
   "outputs": [
    {
     "data": {
      "text/plain": [
       "(0.3014296351451973, 121446)"
      ]
     },
     "execution_count": 7,
     "metadata": {},
     "output_type": "execute_result"
    }
   ],
   "source": [
    "teachers_subset = teachers_dat[teachers_dat['teacher_id'].isin(projects_subset['teacher_id'])]\n",
    "len(teachers_subset) / len(teachers_dat), len(teachers_subset)"
   ]
  },
  {
   "cell_type": "code",
   "execution_count": 8,
   "metadata": {},
   "outputs": [
    {
     "data": {
      "text/plain": [
       "(0.5803570205362159, 42362)"
      ]
     },
     "execution_count": 8,
     "metadata": {},
     "output_type": "execute_result"
    }
   ],
   "source": [
    "schools_subset = schools_dat[schools_dat['school_id'].isin(projects_subset['school_id'])]\n",
    "len(schools_subset) / len(schools_dat), len(schools_subset)"
   ]
  },
  {
   "cell_type": "code",
   "execution_count": 9,
   "metadata": {},
   "outputs": [
    {
     "data": {
      "text/plain": [
       "(0.19849332102815756, 1426400)"
      ]
     },
     "execution_count": 9,
     "metadata": {},
     "output_type": "execute_result"
    }
   ],
   "source": [
    "resources_subset = resources_dat[resources_dat['project_id'].isin(projects_subset['project_id'])]\n",
    "len(resources_subset) / len(resources_dat), len(resources_subset)"
   ]
  },
  {
   "cell_type": "markdown",
   "metadata": {},
   "source": [
    "# Donors: Who are they?\n",
    "\n",
    "The goal is to garner the most donations. So, who should our emails be targeting?"
   ]
  },
  {
   "cell_type": "code",
   "execution_count": 10,
   "metadata": {},
   "outputs": [
    {
     "data": {
      "text/html": [
       "<div>\n",
       "<style scoped>\n",
       "    .dataframe tbody tr th:only-of-type {\n",
       "        vertical-align: middle;\n",
       "    }\n",
       "\n",
       "    .dataframe tbody tr th {\n",
       "        vertical-align: top;\n",
       "    }\n",
       "\n",
       "    .dataframe thead th {\n",
       "        text-align: right;\n",
       "    }\n",
       "</style>\n",
       "<table border=\"1\" class=\"dataframe\">\n",
       "  <thead>\n",
       "    <tr style=\"text-align: right;\">\n",
       "      <th></th>\n",
       "      <th>count</th>\n",
       "      <th>total_amount</th>\n",
       "      <th>avg</th>\n",
       "    </tr>\n",
       "    <tr>\n",
       "      <th>donor_id</th>\n",
       "      <th></th>\n",
       "      <th></th>\n",
       "      <th></th>\n",
       "    </tr>\n",
       "  </thead>\n",
       "  <tbody>\n",
       "    <tr>\n",
       "      <th>fa363972dcf7f3c79a4922a99ec8acaf</th>\n",
       "      <td>1</td>\n",
       "      <td>25.0</td>\n",
       "      <td>25.0</td>\n",
       "    </tr>\n",
       "    <tr>\n",
       "      <th>d2a7308bf1df771c9b61289a19583f60</th>\n",
       "      <td>1</td>\n",
       "      <td>25.0</td>\n",
       "      <td>25.0</td>\n",
       "    </tr>\n",
       "    <tr>\n",
       "      <th>6951514de49c9938feb165acc21b22ab</th>\n",
       "      <td>1</td>\n",
       "      <td>25.0</td>\n",
       "      <td>25.0</td>\n",
       "    </tr>\n",
       "    <tr>\n",
       "      <th>ed2e59a8e5585153448b7b1efbbb67ca</th>\n",
       "      <td>1</td>\n",
       "      <td>20.0</td>\n",
       "      <td>20.0</td>\n",
       "    </tr>\n",
       "    <tr>\n",
       "      <th>81b32e376f406b3abdd9aad6d1eec590</th>\n",
       "      <td>1</td>\n",
       "      <td>25.0</td>\n",
       "      <td>25.0</td>\n",
       "    </tr>\n",
       "  </tbody>\n",
       "</table>\n",
       "</div>"
      ],
      "text/plain": [
       "                                  count  total_amount   avg\n",
       "donor_id                                                   \n",
       "fa363972dcf7f3c79a4922a99ec8acaf      1          25.0  25.0\n",
       "d2a7308bf1df771c9b61289a19583f60      1          25.0  25.0\n",
       "6951514de49c9938feb165acc21b22ab      1          25.0  25.0\n",
       "ed2e59a8e5585153448b7b1efbbb67ca      1          20.0  20.0\n",
       "81b32e376f406b3abdd9aad6d1eec590      1          25.0  25.0"
      ]
     },
     "execution_count": 10,
     "metadata": {},
     "output_type": "execute_result"
    }
   ],
   "source": [
    "unique_donors = donations_subset.groupby('donor_id')\n",
    "donors_donation_counts = pd.DataFrame({'total_amount': unique_donors['amount'].sum(), 'count': unique_donors['amount'].count()})\n",
    "donors_donation_counts['avg'] = donors_donation_counts['total_amount'] / donors_donation_counts['count']\n",
    "donors_donation_counts.sample(5)"
   ]
  },
  {
   "cell_type": "markdown",
   "metadata": {},
   "source": [
    "### How much do people donate?\n",
    "\n",
    "How does donation frequency compare to donation amounts? Use custom bins."
   ]
  },
  {
   "cell_type": "code",
   "execution_count": 11,
   "metadata": {},
   "outputs": [],
   "source": [
    "donate_freq_bins = np.array([1, 2, 3, 4, 5, 6, 7, 8, 9, 10, 15, 25, 50, 100, 200, 500, 1000, 5000, 10000])"
   ]
  },
  {
   "cell_type": "code",
   "execution_count": 12,
   "metadata": {},
   "outputs": [],
   "source": [
    "donors_donation_counts['bin'] = np.digitize(donors_donation_counts['count'], donate_freq_bins, right=True)\n",
    "donation_freq = np.unique(donors_donation_counts['bin'], return_counts=True)"
   ]
  },
  {
   "cell_type": "code",
   "execution_count": 16,
   "metadata": {},
   "outputs": [
    {
     "name": "stderr",
     "output_type": "stream",
     "text": [
      "/Users/alex/anaconda3/lib/python3.6/site-packages/seaborn/categorical.py:1460: FutureWarning: remove_na is deprecated and is a private function. Do not use.\n",
      "  stat_data = remove_na(group_data)\n"
     ]
    },
    {
     "data": {
      "text/plain": [
       "'24.65% with 2+ donations'"
      ]
     },
     "execution_count": 16,
     "metadata": {},
     "output_type": "execute_result"
    },
    {
     "data": {
      "image/png": "[encoded data removed]",
      "text/plain": [
       "<matplotlib.figure.Figure at 0x1a307c8198>"
      ]
     },
     "metadata": {},
     "output_type": "display_data"
    }
   ],
   "source": [
    "plt.subplots(figsize=(10, 4))\n",
    "sns.barplot(x=donate_freq_bins, y=donation_freq[1])\n",
    "plt.xlabel('Donor Donation Counts')\n",
    "plt.ylabel('Total Donors')\n",
    "t = sum(donation_freq[1])\n",
    "'{:.2f}% with 2+ donations'.format(100 * (t - donation_freq[1][0]) / t)"
   ]
  },
  {
   "cell_type": "code",
   "execution_count": 18,
   "metadata": {},
   "outputs": [
    {
     "name": "stdout",
     "output_type": "stream",
     "text": [
      "Descending Average Donation\n",
      "                                  count  total_amount        avg  bin\n",
      "donor_id                                                             \n",
      "b51a1b79ce091021e909fde33c5e5810      1      25000.00  25000.000    0\n",
      "0c796f4db2c7adc93db6969153616cdc      4      47764.00  11941.000    3\n",
      "47e50d951a655979e520f8e5e01a7212      1      10000.00  10000.000    0\n",
      "ebb56c8b81859e95c817c941377a98f1      1       9990.24   9990.240    0\n",
      "345470c95caa44fd8c5c129075367669      1       7890.48   7890.480    0\n",
      "1185f4869739d6484525e074c58e5dee      1       7277.26   7277.260    0\n",
      "7779c0b3af936b7f8f6953f06882c094      6      38255.37   6375.895    5\n",
      "db1ea4fc95f8d657958a178029a8a203      1       6000.00   6000.000    0\n",
      "32bbf59291ea50ff7ea998661efbc281      1       6000.00   6000.000    0\n",
      "28c9d442944bd79246915a51da6d805a      2      11255.64   5627.820    1\n",
      "Mean/median: 58/38.0\n",
      "\n",
      "Descending Donations Total Amount\n",
      "                                  count  total_amount         avg  bin\n",
      "donor_id                                                              \n",
      "3ba8a29e3dd72043f9738c0895733834   1436     889525.21  619.446525   17\n",
      "f9dd79ea006fee7bb4a5cc8473d8656c   1171     506189.57  432.271196   17\n",
      "d006be7223c048ae8b2bdedd7dd2b4db   1686     369327.95  219.055724   17\n",
      "96c4f21513cd8962acb147ab384e6434    635     258082.41  406.428992   16\n",
      "2144d56b1947ebb26a19e7f1d07c970a    518     253770.17  489.903803   16\n",
      "bd58ba0b74427b6686b3d721f0cbcb6e    353     226792.28  642.471048   15\n",
      "f4e59466422bf084792071a849284771    694     189329.85  272.809582   16\n",
      "a0e1d358aa17745ff3d3f4e4909356f3    497     156171.57  314.228511   15\n",
      "3ffc4207c933cb4792a20efa8e7098f4    273     131597.92  482.043663   15\n",
      "55aa4bb22cda065e8658acb371c10135    376     130468.49  346.990665   15\n",
      "Mean/median: 128/50.0\n",
      "\n",
      "Descending Donation Count\n",
      "                                  count  total_amount         avg  bin\n",
      "donor_id                                                              \n",
      "39df9399f5384334a42905bcf0acdcbf   7651      23464.19    3.066813   18\n",
      "24ecca49933c30a0beb83090591720c0   5073      27552.71    5.431246   18\n",
      "0cd96e83a645971f6deb4559262b7688   4225       7718.63    1.826895   17\n",
      "237db43817f34988f9d543ca518be4ee   3949      27742.48    7.025191   17\n",
      "0d9c155b27c25fa0dbac617f9507226d   2091       5030.37    2.405725   17\n",
      "22f51fc8e5750e45e7a3da489eacfe40   1867       3829.94    2.051387   17\n",
      "4942150e351df37d02b1b1008032d795   1721       3990.72    2.318838   17\n",
      "d006be7223c048ae8b2bdedd7dd2b4db   1686     369327.95  219.055724   17\n",
      "de8b8ed34d1800ca93f7ef480857d872   1512       3562.93    2.356435   17\n",
      "3ba8a29e3dd72043f9738c0895733834   1436     889525.21  619.446525   17\n",
      "Mean/median: 2/1.0\n"
     ]
    }
   ],
   "source": [
    "print('Descending Average Donation')\n",
    "print(donors_donation_counts.sort_values('avg', ascending=False)[:10])\n",
    "print('Mean/median: {}/{}'.format(round(np.mean(donors_donation_counts['avg'])), round(np.median(donors_donation_counts['avg']))))\n",
    "\n",
    "print('\\nDescending Donations Total Amount')\n",
    "print(donors_donation_counts.sort_values('total_amount', ascending=False)[:10])\n",
    "print('Mean/median: {}/{}'.format(round(np.mean(donors_donation_counts['total_amount'])), round(np.median(donors_donation_counts['total_amount']))))\n",
    "\n",
    "print('\\nDescending Donation Count')\n",
    "print(donors_donation_counts.sort_values('count', ascending=False)[:10])\n",
    "print('Mean/median: {}/{}'.format(round(np.mean(donors_donation_counts['count'])), round(np.median(donors_donation_counts['count']))))"
   ]
  },
  {
   "cell_type": "markdown",
   "metadata": {},
   "source": [
    "Only 25% of donors donate more than once.\n",
    "\n",
    "Most donors only donate once, some two or three times, and some up to 8,000 times. Most donors have donated a total of \\$50, some more than \\$100,000 in total. The median donation is \\$38, the mean is \\$58.\n",
    "\n",
    "How does the total amount that a donor has given compare to the total number of donations they've made?"
   ]
  },
  {
   "cell_type": "code",
   "execution_count": 19,
   "metadata": {},
   "outputs": [
    {
     "data": {
      "text/plain": [
       "Text(0,0.5,'Donor Donation Total Amount ($)')"
      ]
     },
     "execution_count": 19,
     "metadata": {},
     "output_type": "execute_result"
    },
    {
     "data": {
      "image/png": "[encoded data removed]",
      "text/plain": [
       "<matplotlib.figure.Figure at 0x1a3034b550>"
      ]
     },
     "metadata": {},
     "output_type": "display_data"
    }
   ],
   "source": [
    "plt.scatter(donors_donation_counts['count'], donors_donation_counts['total_amount'])\n",
    "plt.xlabel('Donor Donation Counts')\n",
    "plt.ylabel('Donor Donation Total Amount ($)');"
   ]
  },
  {
   "cell_type": "markdown",
   "metadata": {},
   "source": [
    "Median Average Donation for each Donation Count Bin"
   ]
  },
  {
   "cell_type": "code",
   "execution_count": 20,
   "metadata": {},
   "outputs": [
    {
     "name": "stderr",
     "output_type": "stream",
     "text": [
      "/Users/alex/anaconda3/lib/python3.6/site-packages/seaborn/categorical.py:1460: FutureWarning: remove_na is deprecated and is a private function. Do not use.\n",
      "  stat_data = remove_na(group_data)\n"
     ]
    },
    {
     "data": {
      "image/png": "[encoded data removed]",
      "text/plain": [
       "<matplotlib.figure.Figure at 0x1a2d1e4c88>"
      ]
     },
     "metadata": {},
     "output_type": "display_data"
    }
   ],
   "source": [
    "donation_count_avgs = donors_donation_counts.groupby('bin')['avg'].quantile(.5)\n",
    "plt.subplots(figsize=(10, 4))\n",
    "\n",
    "values = donation_count_avgs.values\n",
    "\n",
    "mult = values * donate_freq_bins\n",
    "\n",
    "pal = sns.color_palette(\"RdYlGn_r\", len(values))\n",
    "rank = values.argsort().argsort()\n",
    "\n",
    "sns.barplot(x=donate_freq_bins, y=values, palette=np.array(pal[::-1])[rank])\n",
    "\n",
    "plt.xlabel('Donor Donation Counts')\n",
    "plt.ylabel('Average Donation ($)');\n",
    "\n",
    "for x in range(len(donate_freq_bins)):\n",
    "    v = donation_count_avgs.values[x]\n",
    "    \n",
    "    a='bottom'\n",
    "    o = 1.5\n",
    "    \n",
    "    if v > 12:\n",
    "        a = 'top'\n",
    "        o = -1.5        \n",
    "    plt.text(-0.1+x, donation_count_avgs.values[x] + o, '$'+str(int(mult[x])), rotation=90, va=a)"
   ]
  },
  {
   "cell_type": "markdown",
   "metadata": {},
   "source": [
    "A donor moving up to the next donation count bin would account for how much of an increase in median average donation?"
   ]
  },
  {
   "cell_type": "code",
   "execution_count": 21,
   "metadata": {},
   "outputs": [
    {
     "name": "stderr",
     "output_type": "stream",
     "text": [
      "/Users/alex/anaconda3/lib/python3.6/site-packages/seaborn/categorical.py:1460: FutureWarning: remove_na is deprecated and is a private function. Do not use.\n",
      "  stat_data = remove_na(group_data)\n"
     ]
    },
    {
     "data": {
      "image/png": "[encoded data removed]",
      "text/plain": [
       "<matplotlib.figure.Figure at 0x1a2d1ba6d8>"
      ]
     },
     "metadata": {},
     "output_type": "display_data"
    }
   ],
   "source": [
    "plt.subplots(figsize=(10, 4))\n",
    "inc = mult[1:] / mult[:-1]\n",
    "\n",
    "up_to = 12\n",
    "\n",
    "pal = sns.color_palette(\"YlGn_r\", up_to)\n",
    "rank = inc[:up_to].argsort().argsort()\n",
    "\n",
    "sns.barplot(x=donate_freq_bins[1:up_to+1], y=inc[:up_to], palette=np.array(pal[::-1])[rank])\n",
    "plt.ylabel('Increase in Median Average Donation')\n",
    "plt.xlabel('Increased Donation Count');"
   ]
  },
  {
   "cell_type": "markdown",
   "metadata": {},
   "source": [
    "A jump from a one-time donor to a two-time donor is the most significant, reasonable increase. The median average donation is likely to increase more than two-fold.\n",
    "\n",
    "Which group of frequencies has the highest average donation per donor?"
   ]
  },
  {
   "cell_type": "code",
   "execution_count": 23,
   "metadata": {},
   "outputs": [
    {
     "name": "stdout",
     "output_type": "stream",
     "text": [
      "Top five donation frequencies by mean average donation amount:\n",
      "[5000   50   25  100    8]\n",
      "[ 87.89302151  74.38347853  72.66522506  70.85511394  68.0467961 ]\n",
      "\n",
      "Top five donation frequencies by 25% quantile average donation amount:\n",
      "[ 7  8  9 10  6]\n",
      "[ 29.28571429  28.75        28.33333333  27.7         27.5       ]\n",
      "\n",
      "Top five donation frequencies by 50% quantile average donation amount:\n",
      "[ 8  7  4 10  9]\n",
      "[ 43.75        43.42857143  43.04625     42.6         42.47777778]\n",
      "\n",
      "Top five donation frequencies by 75% quantile average donation amount:\n",
      "[ 50 100  25   3   4]\n",
      "[ 94.90456294  77.44613818  74.94684783  73.33333333  71.515     ]\n"
     ]
    }
   ],
   "source": [
    "binned = donors_donation_counts.groupby('bin')\n",
    "freq_described = binned.describe()['avg']\n",
    "print('Top five donation frequencies by mean average donation amount:')\n",
    "print(donate_freq_bins[freq_described.nlargest(5, 'mean').index])\n",
    "print(freq_described.nlargest(5, 'mean')['mean'].values)\n",
    "print('\\nTop five donation frequencies by 25% quantile average donation amount:')\n",
    "print(donate_freq_bins[freq_described.nlargest(5, '25%').index])\n",
    "print(freq_described.nlargest(5, '25%')['25%'].values)\n",
    "print('\\nTop five donation frequencies by 50% quantile average donation amount:')\n",
    "print(donate_freq_bins[freq_described.nlargest(5, '50%').index])\n",
    "print(freq_described.nlargest(5, '50%')['50%'].values)\n",
    "print('\\nTop five donation frequencies by 75% quantile average donation amount:')\n",
    "print(donate_freq_bins[freq_described.nlargest(5, '75%').index])\n",
    "print(freq_described.nlargest(5, '75%')['75%'].values)"
   ]
  },
  {
   "cell_type": "markdown",
   "metadata": {},
   "source": [
    "What kind of outliers exist in the set? Is it reasonable for donors to have given more than 365 times with their average donation exceeding \\$5 per donation? 47 donors fall under this category. Do we keep them?"
   ]
  },
  {
   "cell_type": "code",
   "execution_count": 24,
   "metadata": {},
   "outputs": [
    {
     "name": "stdout",
     "output_type": "stream",
     "text": [
      "47\n"
     ]
    }
   ],
   "source": [
    "excessive_amount_donors = donors_donation_counts[(donors_donation_counts['avg'] > 5) &\n",
    "                                                 (donors_donation_counts['count'] > 365)]\n",
    "print(len(excessive_amount_donors))"
   ]
  },
  {
   "cell_type": "markdown",
   "metadata": {},
   "source": [
    "Do people actually donate \\$5,600-25,000 in a single online transaction? Are there actually individuals who have donated a cumulative \\$130,000-900,000 over 370-1,400 donations? Are there actually individuals who have donated more than 1,400 times? Are these scenarios realistic, or do they show an underlying pattern that is confounding our perspective on high/frequent donors?\n",
    "\n",
    "Let's look at high frequency donors. Since 7,651 donations in one year is roughly 21 donations a day, we'd like to make sure that's a realistic looking entry."
   ]
  },
  {
   "cell_type": "code",
   "execution_count": 26,
   "metadata": {},
   "outputs": [
    {
     "data": {
      "text/plain": [
       "'Total # of donations for top 10 donors by donation count: 31211'"
      ]
     },
     "execution_count": 26,
     "metadata": {},
     "output_type": "execute_result"
    }
   ],
   "source": [
    "high_freq_donor_ids = donors_donation_counts.sort_values('count', ascending=False)[:10].index\n",
    "total_donations_count = sum(donors_donation_counts.sort_values('count', ascending=False)[:10]['count'])\n",
    "'Total # of donations for top 10 donors by donation count: {}'.format(total_donations_count)"
   ]
  },
  {
   "cell_type": "code",
   "execution_count": 27,
   "metadata": {},
   "outputs": [
    {
     "name": "stdout",
     "output_type": "stream",
     "text": [
      "# of unique projects for top 10 donors by donation count: 8378\n"
     ]
    }
   ],
   "source": [
    "high_freq_projects = donations_subset[donations_subset['donor_id'].isin(high_freq_donor_ids)].drop_duplicates('project_id')\n",
    "print('# of unique projects for top 10 donors by donation count: {}'.format(len(high_freq_projects)))"
   ]
  },
  {
   "cell_type": "markdown",
   "metadata": {},
   "source": [
    "http://www.ipl.org/div/stateknow/popchart.html"
   ]
  },
  {
   "cell_type": "markdown",
   "metadata": {},
   "source": [
    "## Geography\n",
    "\n",
    "### Proportion of unique donors to state population\n",
    "\n",
    "Null hypothesis: Each state has the same proportion of donors to state population.\n",
    "\n",
    "If we reject this ($p<0.05$), we have proof that one or more states is significantly different from other states with regards to number of unique donors."
   ]
  },
  {
   "cell_type": "code",
   "execution_count": 28,
   "metadata": {},
   "outputs": [],
   "source": [
    "states_pop = pd.read_table('data/statepop.txt', names=['state', 'population'])"
   ]
  },
  {
   "cell_type": "code",
   "execution_count": 29,
   "metadata": {},
   "outputs": [],
   "source": [
    "donors_subset_donations_inc = donors_subset.merge(donors_donation_counts, left_on='donor_id', right_index=True)\n",
    "donors_subset_donations_inc = donors_subset_donations_inc[donors_subset_donations_inc['donor_state'] != 'other']"
   ]
  },
  {
   "cell_type": "code",
   "execution_count": 30,
   "metadata": {},
   "outputs": [],
   "source": [
    "unique_donors_per_state = donors_subset_donations_inc.groupby('donor_state').size()\n",
    "unique_donors_per_state = pd.DataFrame(unique_donors_per_state, columns=['donors']).reset_index()"
   ]
  },
  {
   "cell_type": "code",
   "execution_count": 31,
   "metadata": {},
   "outputs": [
    {
     "name": "stdout",
     "output_type": "stream",
     "text": [
      "p-value: 1.0\n"
     ]
    },
    {
     "data": {
      "image/png": "[encoded data removed]",
      "text/plain": [
       "<matplotlib.figure.Figure at 0x1a3db720b8>"
      ]
     },
     "metadata": {},
     "output_type": "display_data"
    }
   ],
   "source": [
    "donor_states_pop = states_pop.merge(unique_donors_per_state, right_on='donor_state', left_on='state')\n",
    "donor_states_pop.loc[:, 'ratio'] = donor_states_pop['donors'] / donor_states_pop['population']\n",
    "\n",
    "fo = donor_states_pop['ratio']\n",
    "fe = donor_states_pop['ratio'].mean()\n",
    "print('p-value: {}'.format(st.chisquare(fo).pvalue))\n",
    "residuals = (fo-fe)/ np.sqrt(fe)\n",
    "plt.bar(range(len(residuals)), residuals)\n",
    "\n",
    "plt.ylim([-3,3]);"
   ]
  },
  {
   "cell_type": "markdown",
   "metadata": {},
   "source": [
    "We do not reject the null ($p=1.0$). States have no preference for number of donors per.\n",
    "\n",
    "### Proportion of donation amount per person to states\n",
    "\n",
    "What about the amount being donated from each state?"
   ]
  },
  {
   "cell_type": "code",
   "execution_count": 32,
   "metadata": {},
   "outputs": [],
   "source": [
    "total_donated_per_state = donors_subset_donations_inc.groupby('donor_state')['total_amount'].sum()\n",
    "total_donated_per_state = pd.DataFrame(total_donated_per_state, columns=['total_amount']).reset_index()"
   ]
  },
  {
   "cell_type": "code",
   "execution_count": 33,
   "metadata": {},
   "outputs": [
    {
     "name": "stdout",
     "output_type": "stream",
     "text": [
      "p-value: 1.0\n"
     ]
    },
    {
     "data": {
      "image/png": "[encoded data removed]",
      "text/plain": [
       "<matplotlib.figure.Figure at 0x1a4204d748>"
      ]
     },
     "metadata": {},
     "output_type": "display_data"
    }
   ],
   "source": [
    "donor_states_amt = states_pop.merge(total_donated_per_state, right_on='donor_state', left_on='state').drop('donor_state', axis=1)\n",
    "donor_states_amt.loc[:, 'ratio'] = donor_states_amt['total_amount'] / donor_states_amt['population']\n",
    "\n",
    "fo = donor_states_amt['ratio']\n",
    "fe = donor_states_amt['ratio'].mean()\n",
    "print('p-value: {}'.format(st.chisquare(fo).pvalue))\n",
    "residuals = (fo-fe)/ np.sqrt(fe)\n",
    "plt.bar(range(len(residuals)), residuals)\n",
    "\n",
    "plt.ylim([-3,3])\n",
    "\n",
    "outliers = residuals[np.absolute(residuals) > 0.5].index\n",
    "for outlier in outliers:\n",
    "    l = '{}: {:.2f}'.format(donor_states_amt.loc[outlier, 'state'], residuals[outlier])\n",
    "    plt.annotate(l, xy=(outlier-9, 1.2))"
   ]
  },
  {
   "cell_type": "markdown",
   "metadata": {},
   "source": [
    "Each state has about the same amount in donations coming from donors, however the amount being donated does vary more than the number of donators per state. In fact, Massachusetts and D.C seem to have more coming from an individuals than other states."
   ]
  },
  {
   "cell_type": "code",
   "execution_count": null,
   "metadata": {},
   "outputs": [],
   "source": [
    "donor_habits = []\n",
    "c = 0\n",
    "completed = []\n",
    "for donor in donations_subset['donor_id']:\n",
    "    \n",
    "    if donor in completed:\n",
    "        continue\n",
    "    else:\n",
    "        completed.append(donor)\n",
    "        \n",
    "    donations = donations_subset.loc[donations_subset['donor_id'] == donor, ['project_id', 'amount', 'date']].sort_values('date')\n",
    "    \n",
    "    donations_spread = np.median(donations.iloc[1:, 2].values - donations.iloc[:-1, 2].values)\n",
    "    donations_amount = np.median(donations.iloc[1:, 2].values - donations.iloc[:-1, 2].values)\n",
    "    \n",
    "    donor_habits.append([len(donations), \n",
    "                         len(np.unique(donations['project_id']))\n",
    "                         , donations_spread])\n",
    "    \n",
    "    if (c+1) % 25 == 0:\n",
    "        break\n",
    "    c += 1 \n",
    "donor_habits = pd.DataFrame(donor_habits, columns=['total_donations', 'total_projects', 'donations_spread'])"
   ]
  },
  {
   "cell_type": "markdown",
   "metadata": {},
   "source": [
    "People who have donated only twice, with more than a day between donations, without donating more than \\$300 in any one donation. Donate only a little the 1st time, donate a lot more the second time = bottom right."
   ]
  },
  {
   "cell_type": "code",
   "execution_count": 34,
   "metadata": {},
   "outputs": [],
   "source": [
    "donations_donor_count = donations_subset.groupby('donor_id').size()\n",
    "\n",
    "i = donations_donor_count[donations_donor_count == 2].index\n",
    "\n",
    "t = donations_subset[donations_subset['donor_id'].isin(i)].groupby('donor_id')"
   ]
  },
  {
   "cell_type": "code",
   "execution_count": 35,
   "metadata": {},
   "outputs": [],
   "source": [
    "# 0: 1st donation amount, 1: 2nd donation amount\n",
    "coupled_donation_amounts = []\n",
    "ids = []\n",
    "c = 0\n",
    "for row in t:\n",
    "    s_row = row[1].sort_values('date')\n",
    "    diff = s_row['date'].values[1] - s_row['date'].values[0]\n",
    "    \n",
    "    if diff > 60 * 60 * 24:\n",
    "        \n",
    "        v = s_row['amount'].values\n",
    "        if max(v) < 300:\n",
    "            coupled_donation_amounts.append(v)\n",
    "            ids.append(row[0])\n",
    "    \n",
    "coupled_donation_amounts = np.array(coupled_donation_amounts)\n",
    "ids = np.array(ids)"
   ]
  },
  {
   "cell_type": "code",
   "execution_count": 36,
   "metadata": {},
   "outputs": [
    {
     "data": {
      "text/plain": [
       "Text(0.5,0,'Second Donation')"
      ]
     },
     "execution_count": 36,
     "metadata": {},
     "output_type": "execute_result"
    },
    {
     "data": {
      "image/png": "[encoded data removed]",
      "text/plain": [
       "<matplotlib.figure.Figure at 0x1a3db729b0>"
      ]
     },
     "metadata": {},
     "output_type": "display_data"
    }
   ],
   "source": [
    "plt.scatter(coupled_donation_amounts[:, 0], coupled_donation_amounts[:, 1], alpha=0.2)\n",
    "plt.ylabel('First Donation')\n",
    "plt.xlabel('Second Donation')"
   ]
  },
  {
   "cell_type": "code",
   "execution_count": null,
   "metadata": {},
   "outputs": [],
   "source": [
    "# greater donation the first time\n",
    "g1_mask = coupled_donation_amounts[:, 0] > coupled_donation_amounts[:, 1]\n",
    "g1 = coupled_donation_amounts[g1_mask]\n",
    "g1_ids = ids[g1_mask]\n",
    "# greater or equal donation the second time\n",
    "g2_mask = coupled_donation_amounts[:, 1] >= coupled_donation_amounts[:, 0]\n",
    "g2 = coupled_donation_amounts[g2_mask]\n",
    "g2_ids = ids[g2_mask]\n",
    "\n",
    "g2"
   ]
  },
  {
   "cell_type": "code",
   "execution_count": null,
   "metadata": {},
   "outputs": [],
   "source": [
    "g1_states, g1_states_c = np.unique(donors_subset.loc[donors_subset['donor_id'].isin(g1_ids), 'donor_state'], return_counts=True)\n",
    "g2_states, g2_states_c = np.unique(donors_subset.loc[donors_subset['donor_id'].isin(g2_ids), 'donor_state'], return_counts=True)"
   ]
  },
  {
   "cell_type": "markdown",
   "metadata": {},
   "source": [
    "Is there a state which gives more the second donation?"
   ]
  },
  {
   "cell_type": "code",
   "execution_count": null,
   "metadata": {},
   "outputs": [],
   "source": [
    "g1_states_c = g1_states_c / sum(g1_states_c)\n",
    "g1_df = pd.DataFrame({'state': g1_states, 'proportion': g1_states_c, 'cat': [0] * len(g1_states)}).nlargest(10, 'proportion')\n",
    "g2_states_c = g2_states_c / sum(g2_states_c)\n",
    "g2_df = pd.DataFrame({'state': g2_states, 'proportion': g2_states_c, 'cat': [1] * len(g1_states)}).nlargest(10, 'proportion')\n",
    "g_df = pd.concat([g1_df, g2_df], axis=0)"
   ]
  },
  {
   "cell_type": "markdown",
   "metadata": {},
   "source": [
    "### Political Leanings and Donations"
   ]
  },
  {
   "cell_type": "code",
   "execution_count": 37,
   "metadata": {},
   "outputs": [],
   "source": [
    "elections_2014 = pd.read_csv('data/data_clean/2014elections_clean.csv', index_col='state')"
   ]
  },
  {
   "cell_type": "code",
   "execution_count": 39,
   "metadata": {},
   "outputs": [],
   "source": [
    "s = elections_2014.sum(axis=1)\n",
    "elections_2014['democrat_prob'] = elections_2014['democrat'] / s\n",
    "elections_2014['republican_prob'] = elections_2014['republican'] / s\n",
    "elections_2014['third_prob'] = elections_2014['third'] / s\n",
    "\n",
    "donor_states_politcal = donor_states_amt.merge(elections_2014.drop(['democrat', 'republican', 'third'], axis=1), right_index=True, left_on='state')"
   ]
  },
  {
   "cell_type": "code",
   "execution_count": 40,
   "metadata": {},
   "outputs": [
    {
     "data": {
      "image/png": "[encoded data removed]",
      "text/plain": [
       "<matplotlib.figure.Figure at 0x1a4205f588>"
      ]
     },
     "metadata": {},
     "output_type": "display_data"
    }
   ],
   "source": [
    "sns.regplot('ratio', 'democrat_prob', data=donor_states_politcal)\n",
    "sns.regplot('ratio', 'republican_prob', data=donor_states_politcal, color='#D65353')\n",
    "\n",
    "plt.ylabel('Party Probability')\n",
    "plt.xlabel('Donation Dollar to Population')\n",
    "plt.ylim([0,1]);"
   ]
  },
  {
   "cell_type": "markdown",
   "metadata": {},
   "source": [
    "Correlation with Household Income"
   ]
  },
  {
   "cell_type": "code",
   "execution_count": null,
   "metadata": {},
   "outputs": [],
   "source": [
    "zipcodetaxes = pd.read_csv('data/tax.csv')[['agi_stub', 'zipcode', 'N1', 'A00100', 'N19700', 'A19700']]"
   ]
  },
  {
   "cell_type": "code",
   "execution_count": null,
   "metadata": {},
   "outputs": [],
   "source": [
    "zipcodetaxes[zipcodetaxes['zipcode'] == 92037] #/100).astype('int')"
   ]
  },
  {
   "cell_type": "code",
   "execution_count": null,
   "metadata": {},
   "outputs": [],
   "source": [
    "round(a['A00100'].values.mean()), round(np.average(a['A00100'].values, weights=a['N1'].values))"
   ]
  },
  {
   "cell_type": "markdown",
   "metadata": {},
   "source": [
    "What do high/frequent donors give to? What do low/infrequent donors give to?"
   ]
  },
  {
   "cell_type": "markdown",
   "metadata": {},
   "source": [
    "We examine donations with a minimum number of minutes $\\beta$ between them, for all donors with exactly $\\delta$ number of donations. For $\\delta=4$ and $\\beta$ ranging from 30 seconds to 60 minutes, we see there is always a decreasing amount of time between donations as the the donation ordinal increases."
   ]
  },
  {
   "cell_type": "code",
   "execution_count": 41,
   "metadata": {},
   "outputs": [],
   "source": [
    "dim = 3\n",
    "\n",
    "a = donations_subset.groupby('donor_id').size()\n",
    "i = a[a == dim].index\n",
    "\n",
    "t = donations_subset[donations_subset['donor_id'].isin(i)].groupby('donor_id')"
   ]
  },
  {
   "cell_type": "code",
   "execution_count": 42,
   "metadata": {},
   "outputs": [],
   "source": [
    "c = 0\n",
    "\n",
    "gaps = []\n",
    "\n",
    "for row in t:\n",
    "    s_row = row[1].sort_values('date')\n",
    "    diffs = s_row['date'].values[1:] - s_row['date'].values[:-1]\n",
    "    gaps.append(diffs / (60 * 60 * 24))\n",
    "    c += 1\n",
    "    if c % 500 == 0:\n",
    "        break\n",
    "gaps = np.array(gaps)"
   ]
  },
  {
   "cell_type": "code",
   "execution_count": 43,
   "metadata": {},
   "outputs": [],
   "source": [
    "res = []\n",
    "\n",
    "for threshold in [0.5, 1, 2, 3, 4, 5, 10, 15, 20]:\n",
    "\n",
    "    for d in range(dim-1):\n",
    "        res.append([threshold, np.median(gaps[gaps[:, d] >= (threshold/60)]), d])\n",
    "res = np.array(res)"
   ]
  },
  {
   "cell_type": "code",
   "execution_count": 44,
   "metadata": {},
   "outputs": [
    {
     "data": {
      "image/png": "[encoded data removed]",
      "text/plain": [
       "<matplotlib.figure.Figure at 0x1a42fe0550>"
      ]
     },
     "metadata": {},
     "output_type": "display_data"
    }
   ],
   "source": [
    "for d in range(dim-1):\n",
    "    mask = res[:, 2] == d\n",
    "    plt.scatter(res[mask, 0], res[mask, 1], label='{}->{}'.format(d, d+1))\n",
    "    \n",
    "plt.xlabel('Minimum time (mins) between donations for median')\n",
    "plt.ylabel('Median time (days) between donations')\n",
    "plt.legend(title='Donation Ordinal', frameon=False);"
   ]
  },
  {
   "cell_type": "code",
   "execution_count": null,
   "metadata": {},
   "outputs": [],
   "source": [
    "amounts = []\n",
    "for d in range(1, 3):\n",
    "    a = donations_subset.groupby('donor_id').size()\n",
    "    i = a[a == d].index\n",
    "\n",
    "    t = donations_subset[donations_subset['donor_id'].isin(i)].groupby('donor_id')\n",
    "\n",
    "    print('Donors grouped: {}'.format(d))\n",
    "    for row in t:\n",
    "        latest_amount = row[1].sort_values('date', ascending=False).iloc[0, 4]\n",
    "        amounts.append([d, latest_amount])\n",
    "        \n",
    "amounts = np.array(amounts)"
   ]
  },
  {
   "cell_type": "code",
   "execution_count": null,
   "metadata": {},
   "outputs": [],
   "source": [
    "amounts = pd.DataFrame(amounts, columns=['group', 'amount'])\n",
    "sns.boxplot('group', 'amount', data=amounts[amounts['amount'] < 300])"
   ]
  },
  {
   "cell_type": "code",
   "execution_count": null,
   "metadata": {},
   "outputs": [],
   "source": [
    "a = donations_subset.groupby('donor_id')\n",
    "b = a.size()\n",
    "\n",
    "indices = [b[b == donation_count].index for donation_count in range(1,3)]"
   ]
  },
  {
   "cell_type": "markdown",
   "metadata": {},
   "source": [
    "## Donations by Teachers\n",
    "\n",
    "Are teachers more likely to give more money? to donate to a wider variety of projects? to have more donations? What is the difference in total amount donated by teachers compared to nonteachers?"
   ]
  },
  {
   "cell_type": "markdown",
   "metadata": {},
   "source": [
    "# Explore"
   ]
  },
  {
   "cell_type": "markdown",
   "metadata": {},
   "source": [
    "What are the unique resources a project can be categorized with? From docs:\n",
    "\n",
    "> **Project Resource Category:** The types of items being requested by a teacher. There were five resource categories prior to October 10, 2017. After this date, there are fourteen. Prior to October 10, 2017, these categories were selected by teachers during project creation. After October 10, 2017, these categories were predicted via algorithm at roughly 95% accuracy."
   ]
  },
  {
   "cell_type": "code",
   "execution_count": 45,
   "metadata": {},
   "outputs": [
    {
     "data": {
      "text/plain": [
       "array(['Technology', 'Supplies', 'Books', 'Other', 'Trips', 'Visitors',\n",
       "       nan, 'Sports & Exercise Equipment', 'Computers & Tablets',\n",
       "       'Flexible Seating', 'Reading Nooks, Desks & Storage',\n",
       "       'Educational Kits & Games', 'Instructional Technology',\n",
       "       'Art Supplies', 'Classroom Basics', 'Lab Equipment',\n",
       "       'Food, Clothing & Hygiene', 'Musical Instruments'], dtype=object)"
      ]
     },
     "execution_count": 45,
     "metadata": {},
     "output_type": "execute_result"
    }
   ],
   "source": [
    "projects_notext_dat['resource_cat'].unique()"
   ]
  },
  {
   "cell_type": "markdown",
   "metadata": {},
   "source": [
    "What are the unique categories and subcategories a project may be tagged as? From docs:\n",
    "\n",
    "> **Project Subject Category Tree:** Every project can have either one or two subject categories. This is a comma-separated list of those subject categories.\n",
    "\n",
    "> **Project Subject Subcategory Tree:** For every project subject category, there is also a project subject subcategory that contains greater specificity."
   ]
  },
  {
   "cell_type": "code",
   "execution_count": 46,
   "metadata": {},
   "outputs": [
    {
     "data": {
      "text/plain": [
       "array(['Applied Learning', 'Care & Hunger', 'Health & Sports',\n",
       "       'History & Civics', 'Literacy & Language', 'Math & Science',\n",
       "       'Music & The Arts', 'Special Needs', 'Warmth'],\n",
       "      dtype='<U19')"
      ]
     },
     "execution_count": 46,
     "metadata": {},
     "output_type": "execute_result"
    }
   ],
   "source": [
    "cats = []\n",
    "for cat in projects_notext_dat['cat_tree'].unique():\n",
    "    if type(cat) is str:\n",
    "        for c in cat.split(', '):\n",
    "            cats.append(c)\n",
    "        \n",
    "np.unique(cats)"
   ]
  },
  {
   "cell_type": "code",
   "execution_count": 47,
   "metadata": {},
   "outputs": [
    {
     "data": {
      "text/plain": [
       "array(['Applied Sciences', 'Care & Hunger', 'Character Education',\n",
       "       'Civics & Government', 'College & Career Prep', 'Community Service',\n",
       "       'ESL', 'Early Development', 'Economics', 'Environmental Science',\n",
       "       'Extracurricular', 'Financial Literacy', 'Foreign Languages',\n",
       "       'Gym & Fitness', 'Health & Life Science', 'Health & Wellness',\n",
       "       'History & Geography', 'Literacy', 'Literature & Writing',\n",
       "       'Mathematics', 'Music', 'Nutrition Education', 'Other',\n",
       "       'Parent Involvement', 'Performing Arts', 'Social Sciences',\n",
       "       'Special Needs', 'Team Sports', 'Visual Arts', 'Warmth'],\n",
       "      dtype='<U21')"
      ]
     },
     "execution_count": 47,
     "metadata": {},
     "output_type": "execute_result"
    }
   ],
   "source": [
    "cats = []\n",
    "for cat in projects_notext_dat['subcat_tree'].unique():\n",
    "    if type(cat) is str:\n",
    "        for c in cat.split(', '):\n",
    "            cats.append(c)\n",
    "        \n",
    "np.unique(cats)"
   ]
  },
  {
   "cell_type": "code",
   "execution_count": null,
   "metadata": {},
   "outputs": [],
   "source": []
  }
 ],
 "metadata": {
  "kernelspec": {
   "display_name": "Python 3",
   "language": "python",
   "name": "python3"
  },
  "language_info": {
   "codemirror_mode": {
    "name": "ipython",
    "version": 3
   },
   "file_extension": ".py",
   "mimetype": "text/x-python",
   "name": "python",
   "nbconvert_exporter": "python",
   "pygments_lexer": "ipython3",
   "version": "3.6.3"
  }
 },
 "nbformat": 4,
 "nbformat_minor": 2
}
